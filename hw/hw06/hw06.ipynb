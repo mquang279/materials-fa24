{
 "cells": [
  {
   "cell_type": "code",
<<<<<<< HEAD
   "execution_count": null,
=======
   "execution_count": 1,
>>>>>>> 219b954 (first commit)
   "id": "e85f61ea",
   "metadata": {
    "deletable": false,
    "editable": false
   },
   "outputs": [],
   "source": [
    "# Initialize Otter\n",
    "import otter\n",
    "grader = otter.Notebook(\"hw06.ipynb\")"
   ]
  },
  {
   "cell_type": "markdown",
   "id": "80ea0fbe",
   "metadata": {},
   "source": [
    "<img src=\"data8logo.png\" alt=\"Data 8 Logo\" style=\"width: 15%; float: right; padding: 1%; margin-right: 2%;\"/>\n",
    "\n",
    "# Homework 6: Probability, Simulation, Estimation, and Assessing Models\n",
    "\n",
    "Please complete this notebook by filling in the cells provided. Before you begin, execute the previous cell to load the provided tests.\n",
    "\n",
    "**Helpful Resource:**\n",
    "- [Python Reference](http://data8.org/fa24/reference/): Cheat sheet of helpful array & table methods used in Data 8!\n",
    "- [Sampling Methods Guide](https://drive.google.com/file/d/1k8uNN0Bg7J0BTgK-0Z5glDNtd_5FTJQl/view?usp=sharing): Guide for the randomization methods.\n",
    "\n",
    "**Recommended Readings**: \n",
    "* [Randomness](https://www.inferentialthinking.com/chapters/09/Randomness.html)\n",
    "* [Sampling and Empirical Distributions](https://www.inferentialthinking.com/chapters/10/Sampling_and_Empirical_Distributions.html)\n",
    "* [Testing Hypotheses](https://www.inferentialthinking.com/chapters/11/Testing_Hypotheses.html)"
   ]
  },
  {
   "attachments": {},
   "cell_type": "markdown",
   "id": "e2a3cba0",
   "metadata": {},
   "source": [
    "Please complete this notebook by filling in the cells provided. **Before you begin, execute the cell below to setup the notebook by importing some helpful libraries.** Each time you start your server, you will need to execute this cell again.\n",
    "\n",
    "For all problems that you must write explanations and sentences for, you **must** provide your answer in the designated space. Moreover, throughout this homework and all future ones, **please be sure to not re-assign variables throughout the notebook!** For example, if you use `max_temperature` in your answer to one question, do not reassign it later on. Otherwise, you will fail tests that you thought you were passing previously!\n",
    "\n",
    "**Deadline:**\n",
    "\n",
    "This assignment is **due Wednesday, 10/9 at 5:00pm PT**. Submissions after this time will be accepted for 24 hours and will incur a 20% penalty. Any submissions later than this 24 hour period will not be accepted unless an extension has been granted as per the [policies](http://data8.org/fa24/policies/) page. Turn it in by Tuesday, 10/8 at 5:00pm PT for 5 extra credit points.\n",
    "\n",
    "<span style=\"color:red\">**Note: This homework has hidden tests on it. That means even though tests may say 100% passed, it doesn't mean your final grade will be 100%. We will be running more tests for correctness once everyone turns in the homework.**</span>\n",
    "\n",
    "Directly sharing answers is not okay, but discussing problems with the course staff or with other students is encouraged. Refer to the [policies](http://data8.org/fa24/policies/#learning-cooperatively) page to learn more about how to learn cooperatively.\n",
    "\n",
    "You should start early so that you have time to get help if you're stuck. Office hours are held Monday through Friday in [Warren Hall](https://www.berkeley.edu/map?warren) 101B. The office hours schedule appears [here](http://data8.org/fa24/schedule/)."
   ]
  },
  {
   "cell_type": "markdown",
   "id": "1c7eb7ba",
   "metadata": {},
   "source": [
    "---\n",
    "\n",
    "The point breakdown for this assignment is given in the table below:\n",
    "| Category | Points |\n",
    "| --- | --- |\n",
    "| Autograder (Coding questions) | 90 |\n",
    "| Written | 10 |\n",
    "| **Total** | 100 |"
   ]
  },
  {
   "cell_type": "markdown",
   "id": "930006eb",
   "metadata": {},
   "source": [
    "<hr style=\"border: 5px solid #003262;\" />\n",
    "<hr style=\"border: 1px solid #fdb515;\" />\n",
    "\n",
    "## 1. Roulette"
   ]
  },
  {
   "cell_type": "code",
<<<<<<< HEAD
   "execution_count": null,
=======
   "execution_count": 2,
>>>>>>> 219b954 (first commit)
   "id": "f651a8ab",
   "metadata": {},
   "outputs": [],
   "source": [
    "# Run this cell to set up the notebook, but please don't change it.\n",
    "\n",
    "# These lines import the Numpy and Datascience modules.\n",
    "import numpy as np\n",
    "from datascience import *\n",
    "\n",
    "# These lines do some fancy plotting magic.\n",
    "import matplotlib\n",
    "%matplotlib inline\n",
    "import matplotlib.pyplot as plt\n",
    "plt.style.use('fivethirtyeight')\n",
    "import warnings\n",
    "warnings.simplefilter('ignore', FutureWarning)"
   ]
  },
  {
   "cell_type": "markdown",
   "id": "03c6d031",
   "metadata": {},
   "source": [
    "A Nevada roulette wheel has 38 pockets and a small ball that rests on the wheel. When the wheel is spun, the ball comes to rest in one of the 38 pockets. That pocket is declared the winner. \n",
    "\n",
    "The pockets are labeled 0, 00, 1, 2, 3, 4, ... , 36. Pockets 0 and 00 are green, and the other pockets are alternately red and black. The table `wheel` is a representation of a Nevada roulette wheel. **Note that *both* columns consist of strings.** Below is an example of a roulette wheel!"
   ]
  },
  {
   "cell_type": "markdown",
   "id": "08d888b3",
   "metadata": {},
   "source": [
    "<img src=\"roulette_wheel.jpeg\" width=\"330px\">"
   ]
  },
  {
   "cell_type": "markdown",
   "id": "65e03d7a",
   "metadata": {},
   "source": [
    "Run the cell below to load the `wheel` table."
   ]
  },
  {
   "cell_type": "code",
<<<<<<< HEAD
   "execution_count": null,
   "id": "0d9de7bf",
   "metadata": {},
   "outputs": [],
=======
   "execution_count": 3,
   "id": "0d9de7bf",
   "metadata": {},
   "outputs": [
    {
     "data": {
      "text/html": [
       "<table border=\"1\" class=\"dataframe\">\n",
       "    <thead>\n",
       "        <tr>\n",
       "            <th>Pocket</th> <th>Color</th>\n",
       "        </tr>\n",
       "    </thead>\n",
       "    <tbody>\n",
       "        <tr>\n",
       "            <td>00    </td> <td>green</td>\n",
       "        </tr>\n",
       "        <tr>\n",
       "            <td>0     </td> <td>green</td>\n",
       "        </tr>\n",
       "        <tr>\n",
       "            <td>1     </td> <td>red  </td>\n",
       "        </tr>\n",
       "        <tr>\n",
       "            <td>2     </td> <td>black</td>\n",
       "        </tr>\n",
       "        <tr>\n",
       "            <td>3     </td> <td>red  </td>\n",
       "        </tr>\n",
       "        <tr>\n",
       "            <td>4     </td> <td>black</td>\n",
       "        </tr>\n",
       "        <tr>\n",
       "            <td>5     </td> <td>red  </td>\n",
       "        </tr>\n",
       "        <tr>\n",
       "            <td>6     </td> <td>black</td>\n",
       "        </tr>\n",
       "        <tr>\n",
       "            <td>7     </td> <td>red  </td>\n",
       "        </tr>\n",
       "        <tr>\n",
       "            <td>8     </td> <td>black</td>\n",
       "        </tr>\n",
       "    </tbody>\n",
       "</table>\n",
       "<p>... (28 rows omitted)</p>"
      ],
      "text/plain": [
       "Pocket | Color\n",
       "00     | green\n",
       "0      | green\n",
       "1      | red\n",
       "2      | black\n",
       "3      | red\n",
       "4      | black\n",
       "5      | red\n",
       "6      | black\n",
       "7      | red\n",
       "8      | black\n",
       "... (28 rows omitted)"
      ]
     },
     "execution_count": 3,
     "metadata": {},
     "output_type": "execute_result"
    }
   ],
>>>>>>> 219b954 (first commit)
   "source": [
    "wheel = Table.read_table('roulette_wheel.csv', dtype=str)\n",
    "wheel"
   ]
  },
  {
   "attachments": {},
   "cell_type": "markdown",
   "id": "a1ec555f",
   "metadata": {},
   "source": [
    "### Betting on Red ###\n",
    "If you bet on *red*, you are betting that the winning pocket will be red. This bet *pays 1 to 1*. That means if you place a one-dollar bet on red, then:\n",
    "\n",
    "- If the winning pocket is red, you gain 1 dollar. That is, you get your original dollar back, plus one more dollar.\n",
    "- If the winning pocket is not red, you lose your dollar. In other words, you gain -1 dollars.\n",
    "\n",
    "Let's see if you can make money by betting on red at roulette."
   ]
  },
  {
   "cell_type": "markdown",
   "id": "47f0f881",
   "metadata": {},
   "source": [
    "---\n",
    "\n",
    "**Question 1.** Define a function `dollar_bet_on_red` that takes the name of a color and returns your gain in dollars if that color had won and you had placed a one-dollar bet on red. Remember that the gain can be negative. Make sure your function returns an integer. **(4 points)**\n",
    "\n",
    "*Note:* You can assume that the only colors that will be passed as arguments are red, black, and green. Your function doesn't have to check that.\n"
   ]
  },
  {
   "cell_type": "code",
<<<<<<< HEAD
   "execution_count": null,
=======
   "execution_count": 4,
>>>>>>> 219b954 (first commit)
   "id": "d5390368",
   "metadata": {
    "tags": []
   },
   "outputs": [],
   "source": [
<<<<<<< HEAD
    "def dollar_bet_on_red(...):\n",
    "    ..."
=======
    "def dollar_bet_on_red(color):\n",
    "    if color == 'red':\n",
    "        return 1\n",
    "    else:\n",
    "        return -1"
>>>>>>> 219b954 (first commit)
   ]
  },
  {
   "cell_type": "code",
<<<<<<< HEAD
   "execution_count": null,
=======
   "execution_count": 5,
>>>>>>> 219b954 (first commit)
   "id": "005ad958",
   "metadata": {
    "deletable": false,
    "editable": false
   },
<<<<<<< HEAD
   "outputs": [],
=======
   "outputs": [
    {
     "data": {
      "text/html": [
       "<p><strong><pre style='display: inline;'>q1_1</pre></strong> passed! 🚀</p>"
      ],
      "text/plain": [
       "q1_1 results: All test cases passed!"
      ]
     },
     "execution_count": 5,
     "metadata": {},
     "output_type": "execute_result"
    }
   ],
>>>>>>> 219b954 (first commit)
   "source": [
    "grader.check(\"q1_1\")"
   ]
  },
  {
   "cell_type": "markdown",
   "id": "34a28d9a",
   "metadata": {},
   "source": [
    "Run the cell below to make sure your function is working."
   ]
  },
  {
   "cell_type": "code",
<<<<<<< HEAD
   "execution_count": null,
   "id": "d1aee6c2",
   "metadata": {},
   "outputs": [],
=======
   "execution_count": 6,
   "id": "d1aee6c2",
   "metadata": {},
   "outputs": [
    {
     "name": "stdout",
     "output_type": "stream",
     "text": [
      "-1\n",
      "-1\n",
      "1\n"
     ]
    }
   ],
>>>>>>> 219b954 (first commit)
   "source": [
    "print(dollar_bet_on_red('green'))\n",
    "print(dollar_bet_on_red('black'))\n",
    "print(dollar_bet_on_red('red'))"
   ]
  },
  {
   "cell_type": "markdown",
   "id": "23670732",
   "metadata": {},
   "source": [
    "---\n",
    "\n",
    "**Question 2.** Add a column labeled `Winnings: Red` to the table `wheel`. For each pocket, the column should contain your gain in dollars if that pocket won and you had bet one dollar on red. Your code should use the function `dollar_bet_on_red`. **(4 points)**\n",
    "\n",
    "> *Hint:* You should not need a `for` loop for this question, instead try using a table method!"
   ]
  },
  {
   "cell_type": "code",
<<<<<<< HEAD
   "execution_count": null,
=======
   "execution_count": 7,
>>>>>>> 219b954 (first commit)
   "id": "5e98a695",
   "metadata": {
    "scrolled": true,
    "tags": []
   },
<<<<<<< HEAD
   "outputs": [],
   "source": [
    "red_winnings = ...\n",
    "wheel = ...\n",
=======
   "outputs": [
    {
     "data": {
      "text/html": [
       "<table border=\"1\" class=\"dataframe\">\n",
       "    <thead>\n",
       "        <tr>\n",
       "            <th>Pocket</th> <th>Color</th> <th>Winnings: Red</th>\n",
       "        </tr>\n",
       "    </thead>\n",
       "    <tbody>\n",
       "        <tr>\n",
       "            <td>00    </td> <td>green</td> <td>-1           </td>\n",
       "        </tr>\n",
       "        <tr>\n",
       "            <td>0     </td> <td>green</td> <td>-1           </td>\n",
       "        </tr>\n",
       "        <tr>\n",
       "            <td>1     </td> <td>red  </td> <td>1            </td>\n",
       "        </tr>\n",
       "        <tr>\n",
       "            <td>2     </td> <td>black</td> <td>-1           </td>\n",
       "        </tr>\n",
       "        <tr>\n",
       "            <td>3     </td> <td>red  </td> <td>1            </td>\n",
       "        </tr>\n",
       "        <tr>\n",
       "            <td>4     </td> <td>black</td> <td>-1           </td>\n",
       "        </tr>\n",
       "        <tr>\n",
       "            <td>5     </td> <td>red  </td> <td>1            </td>\n",
       "        </tr>\n",
       "        <tr>\n",
       "            <td>6     </td> <td>black</td> <td>-1           </td>\n",
       "        </tr>\n",
       "        <tr>\n",
       "            <td>7     </td> <td>red  </td> <td>1            </td>\n",
       "        </tr>\n",
       "        <tr>\n",
       "            <td>8     </td> <td>black</td> <td>-1           </td>\n",
       "        </tr>\n",
       "    </tbody>\n",
       "</table>\n",
       "<p>... (28 rows omitted)</p>"
      ],
      "text/plain": [
       "Pocket | Color | Winnings: Red\n",
       "00     | green | -1\n",
       "0      | green | -1\n",
       "1      | red   | 1\n",
       "2      | black | -1\n",
       "3      | red   | 1\n",
       "4      | black | -1\n",
       "5      | red   | 1\n",
       "6      | black | -1\n",
       "7      | red   | 1\n",
       "8      | black | -1\n",
       "... (28 rows omitted)"
      ]
     },
     "execution_count": 7,
     "metadata": {},
     "output_type": "execute_result"
    }
   ],
   "source": [
    "red_winnings = wheel.apply(dollar_bet_on_red, 'Color')\n",
    "wheel = wheel.with_column('Winnings: Red', red_winnings)\n",
>>>>>>> 219b954 (first commit)
    "wheel"
   ]
  },
  {
   "cell_type": "code",
<<<<<<< HEAD
   "execution_count": null,
=======
   "execution_count": 8,
>>>>>>> 219b954 (first commit)
   "id": "579a5a93",
   "metadata": {
    "deletable": false,
    "editable": false
   },
<<<<<<< HEAD
   "outputs": [],
=======
   "outputs": [
    {
     "data": {
      "text/html": [
       "<p><strong><pre style='display: inline;'>q1_2</pre></strong> passed! 🙌</p>"
      ],
      "text/plain": [
       "q1_2 results: All test cases passed!"
      ]
     },
     "execution_count": 8,
     "metadata": {},
     "output_type": "execute_result"
    }
   ],
>>>>>>> 219b954 (first commit)
   "source": [
    "grader.check(\"q1_2\")"
   ]
  },
  {
   "cell_type": "markdown",
   "id": "e9f6274d",
   "metadata": {},
   "source": [
    "### Simulating 10 Bets on Red\n",
    "Roulette wheels are set up so that each time they are spun, the winning pocket is equally likely to be any of the 38 pockets regardless of the results of all other spins. Let's see what would happen if we decided to bet one dollar on red each round.\n",
    "\n",
    "--- \n",
    "\n",
    "**Question 3.** Create a table `ten_bets` by sampling the table `wheel` to simulate 10 spins of the roulette wheel. Your table should have the same three column labels as in `wheel`. Once you've created that table, set `sum_bets` to your net gain in all 10 bets, assuming that you bet one dollar on red each time. **(4 points)**\n",
    "\n",
    "*Note:* The [Sampling Methods Guide](https://drive.google.com/file/d/1k8uNN0Bg7J0BTgK-0Z5glDNtd_5FTJQl/view?usp=sharing) may be helpful!\n",
    "\n",
    "*Hint:* It may be helpful to print out `ten_bets` after you create it! "
   ]
  },
  {
   "cell_type": "code",
<<<<<<< HEAD
   "execution_count": null,
=======
   "execution_count": 9,
>>>>>>> 219b954 (first commit)
   "id": "f2406492",
   "metadata": {
    "tags": []
   },
<<<<<<< HEAD
   "outputs": [],
   "source": [
    "ten_bets = ...\n",
    "sum_bets = ...(ten_bets.column('Winnings: Red'))\n",
=======
   "outputs": [
    {
     "data": {
      "text/plain": [
       "-2"
      ]
     },
     "execution_count": 9,
     "metadata": {},
     "output_type": "execute_result"
    }
   ],
   "source": [
    "ten_bets = wheel.sample(10)\n",
    "sum_bets = sum(ten_bets.column('Winnings: Red'))\n",
>>>>>>> 219b954 (first commit)
    "sum_bets"
   ]
  },
  {
   "cell_type": "code",
<<<<<<< HEAD
   "execution_count": null,
=======
   "execution_count": 10,
>>>>>>> 219b954 (first commit)
   "id": "b62c46ef",
   "metadata": {
    "deletable": false,
    "editable": false
   },
<<<<<<< HEAD
   "outputs": [],
=======
   "outputs": [
    {
     "data": {
      "text/html": [
       "<p><strong><pre style='display: inline;'>q1_3</pre></strong> passed! 🙌</p>"
      ],
      "text/plain": [
       "q1_3 results: All test cases passed!"
      ]
     },
     "execution_count": 10,
     "metadata": {},
     "output_type": "execute_result"
    }
   ],
>>>>>>> 219b954 (first commit)
   "source": [
    "grader.check(\"q1_3\")"
   ]
  },
  {
   "cell_type": "markdown",
   "id": "b85e0fce",
   "metadata": {},
   "source": [
    "Run the cells above a few times to see how much money you would make if you made 10 one-dollar bets on red. Making a negative amount of money doesn't feel good, but it is a reality in gambling. Casinos are a business, and they make money when gamblers lose."
   ]
  },
  {
   "cell_type": "markdown",
   "id": "673e51f9",
   "metadata": {},
   "source": [
    "--- \n",
    "\n",
    "**Question 4.** Let's see what would happen if you made more bets. Define a function `net_gain_red` that takes the number of bets and returns the net gain in that number of one-dollar bets on red. **(4 points)**\n",
    "\n",
    "*Hint:* You should use your `wheel` table within your function.\n"
   ]
  },
  {
   "cell_type": "code",
<<<<<<< HEAD
   "execution_count": null,
=======
   "execution_count": 11,
>>>>>>> 219b954 (first commit)
   "id": "bda7cb32",
   "metadata": {
    "tags": []
   },
   "outputs": [],
   "source": [
<<<<<<< HEAD
    "def net_gain_red(...):\n",
    "    ..."
=======
    "def net_gain_red(number):\n",
    "    bets = wheel.sample(number)\n",
    "    return sum(bets.column('Winnings: Red'))"
>>>>>>> 219b954 (first commit)
   ]
  },
  {
   "cell_type": "code",
<<<<<<< HEAD
   "execution_count": null,
=======
   "execution_count": 12,
>>>>>>> 219b954 (first commit)
   "id": "bc2e5bcb",
   "metadata": {
    "deletable": false,
    "editable": false
   },
<<<<<<< HEAD
   "outputs": [],
=======
   "outputs": [
    {
     "data": {
      "text/html": [
       "<p><strong><pre style='display: inline;'>q1_4</pre></strong> passed! ✨</p>"
      ],
      "text/plain": [
       "q1_4 results: All test cases passed!"
      ]
     },
     "execution_count": 12,
     "metadata": {},
     "output_type": "execute_result"
    }
   ],
>>>>>>> 219b954 (first commit)
   "source": [
    "grader.check(\"q1_4\")"
   ]
  },
  {
   "cell_type": "markdown",
   "id": "d2fc3aae",
   "metadata": {},
   "source": [
    "Run the cell below a few times to make sure that the results are similar to those you observed in the previous exercise."
   ]
  },
  {
   "cell_type": "code",
<<<<<<< HEAD
   "execution_count": null,
   "id": "dd5e3404",
   "metadata": {},
   "outputs": [],
=======
   "execution_count": 13,
   "id": "dd5e3404",
   "metadata": {},
   "outputs": [
    {
     "data": {
      "text/plain": [
       "-4"
      ]
     },
     "execution_count": 13,
     "metadata": {},
     "output_type": "execute_result"
    }
   ],
>>>>>>> 219b954 (first commit)
   "source": [
    "net_gain_red(10)"
   ]
  },
  {
   "cell_type": "markdown",
   "id": "57ed06be",
   "metadata": {},
   "source": [
    "---\n",
    "\n",
    "**Question 5.** Complete the cell below to simulate the net gain in 200 one-dollar bets on red, repeating the process 10,000 times. After the cell is run, `simulated_gains_red` should be an array with 10,000 entries, each of which is the net gain in 200 one-dollar bets on red. **(4 points)**\n",
    "\n",
    "*Hint:* Think about which computational tool might be helpful for simulating a process multiple times. Lab 5 might be a good resource to look at!\n",
    "\n",
    "*Note:* This cell might take a few seconds to run.\n"
   ]
  },
  {
   "cell_type": "code",
<<<<<<< HEAD
   "execution_count": null,
=======
   "execution_count": 14,
>>>>>>> 219b954 (first commit)
   "id": "d8e9a58d",
   "metadata": {
    "tags": []
   },
<<<<<<< HEAD
   "outputs": [],
   "source": [
    "num_bets = ...\n",
    "repetitions = ...\n",
    "\n",
    "simulated_gains_red = ...\n",
    "...\n",
=======
   "outputs": [
    {
     "data": {
      "text/plain": [
       "100000"
      ]
     },
     "execution_count": 14,
     "metadata": {},
     "output_type": "execute_result"
    }
   ],
   "source": [
    "num_bets = 200\n",
    "repetitions = 100000\n",
    "\n",
    "simulated_gains_red = np.array([net_gain_red(num_bets) for _ in range(0, repetitions)])\n",
>>>>>>> 219b954 (first commit)
    "\n",
    "len(simulated_gains_red) # Do not change this line! Check that simulated_gains_red is length 10000."
   ]
  },
  {
   "cell_type": "code",
<<<<<<< HEAD
   "execution_count": null,
=======
   "execution_count": 20,
>>>>>>> 219b954 (first commit)
   "id": "561490a4",
   "metadata": {
    "deletable": false,
    "editable": false
   },
<<<<<<< HEAD
   "outputs": [],
=======
   "outputs": [
    {
     "data": {
      "text/html": [
       "<p><strong><pre style='display: inline;'>q1_5</pre></strong> passed! ✨</p>"
      ],
      "text/plain": [
       "q1_5 results: All test cases passed!"
      ]
     },
     "execution_count": 20,
     "metadata": {},
     "output_type": "execute_result"
    }
   ],
>>>>>>> 219b954 (first commit)
   "source": [
    "grader.check(\"q1_5\")"
   ]
  },
  {
   "cell_type": "markdown",
   "id": "09a9d89c",
   "metadata": {},
   "source": [
    "Run the cell below to visualize the results of your simulation."
   ]
  },
  {
   "cell_type": "code",
<<<<<<< HEAD
   "execution_count": null,
   "id": "4d9c73c7",
   "metadata": {},
   "outputs": [],
=======
   "execution_count": 16,
   "id": "4d9c73c7",
   "metadata": {},
   "outputs": [
    {
     "data": {
      "image/png": "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",
      "text/plain": [
       "<Figure size 600x400 with 1 Axes>"
      ]
     },
     "metadata": {},
     "output_type": "display_data"
    }
   ],
>>>>>>> 219b954 (first commit)
   "source": [
    "gains = Table().with_columns('Net Gain on Red', simulated_gains_red)\n",
    "gains.hist(bins = np.arange(-80, 41, 4))"
   ]
  },
  {
   "cell_type": "markdown",
   "id": "c3b0057f",
   "metadata": {},
   "source": [
    "---\n",
    "\n",
    "**Question 6:** Using the histogram above, decide whether the following statement is true or false:\n",
    "\n",
    ">If you make 200 one-dollar bets on red, your chance of losing money is more than 50%.\n",
    "\n",
    "Assign `loss_more_than_50` to either `True` or `False` depending on your answer to the question. **(2 points)**\n"
   ]
  },
  {
   "cell_type": "code",
<<<<<<< HEAD
   "execution_count": null,
=======
   "execution_count": 21,
>>>>>>> 219b954 (first commit)
   "id": "d92640dd",
   "metadata": {
    "tags": []
   },
   "outputs": [],
   "source": [
<<<<<<< HEAD
    "loss_more_than_50 = ..."
=======
    "loss_more_than_50 = True"
>>>>>>> 219b954 (first commit)
   ]
  },
  {
   "cell_type": "code",
<<<<<<< HEAD
   "execution_count": null,
=======
   "execution_count": 22,
>>>>>>> 219b954 (first commit)
   "id": "516e9574",
   "metadata": {
    "deletable": false,
    "editable": false
   },
<<<<<<< HEAD
   "outputs": [],
=======
   "outputs": [
    {
     "data": {
      "text/html": [
       "<p><strong><pre style='display: inline;'>q1_6</pre></strong> passed! 💯</p>"
      ],
      "text/plain": [
       "q1_6 results: All test cases passed!"
      ]
     },
     "execution_count": 22,
     "metadata": {},
     "output_type": "execute_result"
    }
   ],
>>>>>>> 219b954 (first commit)
   "source": [
    "grader.check(\"q1_6\")"
   ]
  },
  {
   "cell_type": "markdown",
   "id": "e6e2606b",
   "metadata": {},
   "source": [
    "### Betting on a Split ###\n",
    "If betting on red doesn't seem like a good idea, maybe a gambler might want to try a different bet. A bet on a *split* is a bet on two consecutive numbers such as 5 and 6. This bets pays 17 to 1. That means if you place a one-dollar bet on the split 5 and 6, then:\n",
    "\n",
    "- If the winning pocket is either 5 or 6, your gain is 17 dollars.\n",
    "- If any other pocket wins, you lose your dollar, so your gain is -1 dollars.\n",
    "\n",
    "---\n",
    "\n",
    "**Question 7.** Define a function `dollar_bet_on_split` that takes a pocket number and returns your gain in dollars if that pocket won and you had bet one dollar on the 5-6 split. **(4 points)**\n",
    "\n",
    "*Hint:* Remember that the pockets are represented as strings.\n"
   ]
  },
  {
   "cell_type": "code",
<<<<<<< HEAD
   "execution_count": null,
=======
   "execution_count": 27,
>>>>>>> 219b954 (first commit)
   "id": "a81dc575",
   "metadata": {
    "tags": []
   },
   "outputs": [],
   "source": [
<<<<<<< HEAD
    "def dollar_bet_on_split(...):\n",
    "    ..."
=======
    "def dollar_bet_on_split(pocket_number):\n",
    "    if pocket_number != '5' and pocket_number != '6':\n",
    "        return -1\n",
    "    else:\n",
    "        return 17"
>>>>>>> 219b954 (first commit)
   ]
  },
  {
   "cell_type": "code",
<<<<<<< HEAD
   "execution_count": null,
=======
   "execution_count": 28,
>>>>>>> 219b954 (first commit)
   "id": "64faf3a3",
   "metadata": {
    "deletable": false,
    "editable": false
   },
<<<<<<< HEAD
   "outputs": [],
=======
   "outputs": [
    {
     "data": {
      "text/html": [
       "<p><strong><pre style='display: inline;'>q1_7</pre></strong> passed! 🌟</p>"
      ],
      "text/plain": [
       "q1_7 results: All test cases passed!"
      ]
     },
     "execution_count": 28,
     "metadata": {},
     "output_type": "execute_result"
    }
   ],
>>>>>>> 219b954 (first commit)
   "source": [
    "grader.check(\"q1_7\")"
   ]
  },
  {
   "cell_type": "markdown",
   "id": "2eeb6262",
   "metadata": {},
   "source": [
    "Run the cell below to check that your function is doing what it should."
   ]
  },
  {
   "cell_type": "code",
<<<<<<< HEAD
   "execution_count": null,
=======
   "execution_count": 29,
>>>>>>> 219b954 (first commit)
   "id": "bddb171f",
   "metadata": {
    "scrolled": true
   },
<<<<<<< HEAD
   "outputs": [],
=======
   "outputs": [
    {
     "name": "stdout",
     "output_type": "stream",
     "text": [
      "17\n",
      "17\n",
      "-1\n",
      "-1\n"
     ]
    }
   ],
>>>>>>> 219b954 (first commit)
   "source": [
    "print(dollar_bet_on_split('5'))\n",
    "print(dollar_bet_on_split('6'))\n",
    "print(dollar_bet_on_split('00'))\n",
    "print(dollar_bet_on_split('23'))"
   ]
  },
  {
   "cell_type": "markdown",
   "id": "907fca2a",
   "metadata": {},
   "source": [
    "---\n",
    "\n",
    "**Question 8.** Add a column `Winnings: Split` to the `wheel` table. For each pocket, the column should contain your gain in dollars if that pocket won and you had bet one dollar on the 5-6 split. **(4 points)**\n"
   ]
  },
  {
   "cell_type": "code",
<<<<<<< HEAD
   "execution_count": null,
=======
   "execution_count": 33,
>>>>>>> 219b954 (first commit)
   "id": "058355e3",
   "metadata": {
    "scrolled": true,
    "tags": []
   },
<<<<<<< HEAD
   "outputs": [],
   "source": [
    "split_winnings = ...\n",
    "wheel = ...\n",
=======
   "outputs": [
    {
     "data": {
      "text/html": [
       "<table border=\"1\" class=\"dataframe\">\n",
       "    <thead>\n",
       "        <tr>\n",
       "            <th>Pocket</th> <th>Color</th> <th>Winnings: Red</th> <th>Winnings: Split</th>\n",
       "        </tr>\n",
       "    </thead>\n",
       "    <tbody>\n",
       "        <tr>\n",
       "            <td>00    </td> <td>green</td> <td>-1           </td> <td>-1             </td>\n",
       "        </tr>\n",
       "        <tr>\n",
       "            <td>0     </td> <td>green</td> <td>-1           </td> <td>-1             </td>\n",
       "        </tr>\n",
       "        <tr>\n",
       "            <td>1     </td> <td>red  </td> <td>1            </td> <td>-1             </td>\n",
       "        </tr>\n",
       "        <tr>\n",
       "            <td>2     </td> <td>black</td> <td>-1           </td> <td>-1             </td>\n",
       "        </tr>\n",
       "        <tr>\n",
       "            <td>3     </td> <td>red  </td> <td>1            </td> <td>-1             </td>\n",
       "        </tr>\n",
       "    </tbody>\n",
       "</table>\n",
       "<p>... (33 rows omitted)</p>"
      ],
      "text/plain": [
       "<IPython.core.display.HTML object>"
      ]
     },
     "metadata": {},
     "output_type": "display_data"
    }
   ],
   "source": [
    "split_winnings = [dollar_bet_on_split(pocket_number) for pocket_number in wheel.column('Pocket')]\n",
    "wheel = wheel.with_column(\n",
    "    'Winnings: Split', split_winnings\n",
    ")\n",
>>>>>>> 219b954 (first commit)
    "wheel.show(5) # Do not change this line."
   ]
  },
  {
   "cell_type": "code",
<<<<<<< HEAD
   "execution_count": null,
=======
   "execution_count": 34,
>>>>>>> 219b954 (first commit)
   "id": "b6c3c5b4",
   "metadata": {
    "deletable": false,
    "editable": false
   },
<<<<<<< HEAD
   "outputs": [],
=======
   "outputs": [
    {
     "data": {
      "text/html": [
       "<p><strong><pre style='display: inline;'>q1_8</pre></strong> passed! 🙌</p>"
      ],
      "text/plain": [
       "q1_8 results: All test cases passed!"
      ]
     },
     "execution_count": 34,
     "metadata": {},
     "output_type": "execute_result"
    }
   ],
>>>>>>> 219b954 (first commit)
   "source": [
    "grader.check(\"q1_8\")"
   ]
  },
  {
   "cell_type": "markdown",
   "id": "7a5953a1",
   "metadata": {},
   "source": [
    "---\n",
    "\n",
    "**Question 9.** Simulate the net gain in 200 one-dollar bets on the 5-6 split, repeating the process 10,000 times and saving your gains in the array `simulated_gains_split`. **(5 points)**\n",
    "\n",
    "*Hint:* Your code in Questions 4 and 5 may be helpful here!\n"
   ]
  },
  {
   "cell_type": "code",
<<<<<<< HEAD
   "execution_count": null,
=======
   "execution_count": 36,
>>>>>>> 219b954 (first commit)
   "id": "8b32298e",
   "metadata": {
    "scrolled": false,
    "tags": []
   },
<<<<<<< HEAD
   "outputs": [],
   "source": [
    "simulated_gains_split = ...\n",
    "\n",
    "...\n",
=======
   "outputs": [
    {
     "ename": "ValueError",
     "evalue": "Column length mismatch. New column does not have the same number of rows as table.",
     "output_type": "error",
     "traceback": [
      "\u001b[0;31m---------------------------------------------------------------------------\u001b[0m",
      "\u001b[0;31mValueError\u001b[0m                                Traceback (most recent call last)",
      "Cell \u001b[0;32mIn[36], line 11\u001b[0m\n\u001b[1;32m      4\u001b[0m simulated_gains_split \u001b[38;5;241m=\u001b[39m np\u001b[38;5;241m.\u001b[39marray([\n\u001b[1;32m      5\u001b[0m     wheel\u001b[38;5;241m.\u001b[39msample(num_bets)\u001b[38;5;241m.\u001b[39mcolumn(\u001b[38;5;124m'\u001b[39m\u001b[38;5;124mWinnings: Split\u001b[39m\u001b[38;5;124m'\u001b[39m)\u001b[38;5;241m.\u001b[39msum()\n\u001b[1;32m      6\u001b[0m     \u001b[38;5;28;01mfor\u001b[39;00m i \u001b[38;5;129;01min\u001b[39;00m \u001b[38;5;28mrange\u001b[39m(repetitions)\n\u001b[1;32m      7\u001b[0m ])\n\u001b[1;32m     10\u001b[0m \u001b[38;5;66;03m# Do not change the two lines below\u001b[39;00m\n\u001b[0;32m---> 11\u001b[0m gains \u001b[38;5;241m=\u001b[39m \u001b[43mgains\u001b[49m\u001b[38;5;241;43m.\u001b[39;49m\u001b[43mwith_columns\u001b[49m\u001b[43m(\u001b[49m\u001b[38;5;124;43m'\u001b[39;49m\u001b[38;5;124;43mNet Gain on Split\u001b[39;49m\u001b[38;5;124;43m'\u001b[39;49m\u001b[43m,\u001b[49m\u001b[43m \u001b[49m\u001b[43msimulated_gains_split\u001b[49m\u001b[43m)\u001b[49m\n\u001b[1;32m     12\u001b[0m gains\u001b[38;5;241m.\u001b[39mhist(bins \u001b[38;5;241m=\u001b[39m np\u001b[38;5;241m.\u001b[39marange(\u001b[38;5;241m-\u001b[39m\u001b[38;5;241m200\u001b[39m, \u001b[38;5;241m150\u001b[39m, \u001b[38;5;241m20\u001b[39m))\n",
      "File \u001b[0;32m~/.local/lib/python3.12/site-packages/datascience/tables.py:2583\u001b[0m, in \u001b[0;36mTable.with_columns\u001b[0;34m(self, *labels_and_values, **formatter)\u001b[0m\n\u001b[1;32m   2581\u001b[0m \u001b[38;5;28;01mfor\u001b[39;00m i \u001b[38;5;129;01min\u001b[39;00m \u001b[38;5;28mrange\u001b[39m(\u001b[38;5;241m0\u001b[39m, \u001b[38;5;28mlen\u001b[39m(labels_and_values), \u001b[38;5;241m2\u001b[39m):\n\u001b[1;32m   2582\u001b[0m     label, values \u001b[38;5;241m=\u001b[39m labels_and_values[i], labels_and_values[i\u001b[38;5;241m+\u001b[39m\u001b[38;5;241m1\u001b[39m]\n\u001b[0;32m-> 2583\u001b[0m     \u001b[38;5;28mself\u001b[39m \u001b[38;5;241m=\u001b[39m \u001b[38;5;28;43mself\u001b[39;49m\u001b[38;5;241;43m.\u001b[39;49m\u001b[43mwith_column\u001b[49m\u001b[43m(\u001b[49m\u001b[43mlabel\u001b[49m\u001b[43m,\u001b[49m\u001b[43m \u001b[49m\u001b[43mvalues\u001b[49m\u001b[43m,\u001b[49m\u001b[43m \u001b[49m\u001b[43mformatter\u001b[49m\u001b[43m)\u001b[49m\n\u001b[1;32m   2584\u001b[0m \u001b[38;5;28;01mreturn\u001b[39;00m \u001b[38;5;28mself\u001b[39m\n",
      "File \u001b[0;32m~/.local/lib/python3.12/site-packages/datascience/tables.py:2500\u001b[0m, in \u001b[0;36mTable.with_column\u001b[0;34m(self, label, values, formatter)\u001b[0m\n\u001b[1;32m   2498\u001b[0m \u001b[38;5;28;01melif\u001b[39;00m \u001b[38;5;28misinstance\u001b[39m(formatter, \u001b[38;5;28mdict\u001b[39m):\n\u001b[1;32m   2499\u001b[0m     formatter \u001b[38;5;241m=\u001b[39m formatter[\u001b[38;5;124m\"\u001b[39m\u001b[38;5;124mformatter\u001b[39m\u001b[38;5;124m\"\u001b[39m]\n\u001b[0;32m-> 2500\u001b[0m \u001b[43mnew_table\u001b[49m\u001b[38;5;241;43m.\u001b[39;49m\u001b[43mappend_column\u001b[49m\u001b[43m(\u001b[49m\u001b[43mlabel\u001b[49m\u001b[43m,\u001b[49m\u001b[43m \u001b[49m\u001b[43mvalues\u001b[49m\u001b[43m,\u001b[49m\u001b[43m \u001b[49m\u001b[43mformatter\u001b[49m\u001b[43m)\u001b[49m\n\u001b[1;32m   2501\u001b[0m \u001b[38;5;28;01mreturn\u001b[39;00m new_table\n",
      "File \u001b[0;32m~/.local/lib/python3.12/site-packages/datascience/tables.py:991\u001b[0m, in \u001b[0;36mTable.append_column\u001b[0;34m(self, label, values, formatter)\u001b[0m\n\u001b[1;32m    988\u001b[0m         values \u001b[38;5;241m=\u001b[39m np\u001b[38;5;241m.\u001b[39marray(\u001b[38;5;28mtuple\u001b[39m(values))\n\u001b[1;32m    990\u001b[0m \u001b[38;5;28;01mif\u001b[39;00m \u001b[38;5;28mself\u001b[39m\u001b[38;5;241m.\u001b[39mnum_rows \u001b[38;5;241m!=\u001b[39m \u001b[38;5;241m0\u001b[39m \u001b[38;5;129;01mand\u001b[39;00m \u001b[38;5;28mlen\u001b[39m(values) \u001b[38;5;241m!=\u001b[39m \u001b[38;5;28mself\u001b[39m\u001b[38;5;241m.\u001b[39mnum_rows:\n\u001b[0;32m--> 991\u001b[0m     \u001b[38;5;28;01mraise\u001b[39;00m \u001b[38;5;167;01mValueError\u001b[39;00m(\u001b[38;5;124m'\u001b[39m\u001b[38;5;124mColumn length mismatch. New column does not have \u001b[39m\u001b[38;5;124m'\u001b[39m\n\u001b[1;32m    992\u001b[0m                      \u001b[38;5;124m'\u001b[39m\u001b[38;5;124mthe same number of rows as table.\u001b[39m\u001b[38;5;124m'\u001b[39m)\n\u001b[1;32m    993\u001b[0m \u001b[38;5;28;01melse\u001b[39;00m:\n\u001b[1;32m    994\u001b[0m     \u001b[38;5;28mself\u001b[39m\u001b[38;5;241m.\u001b[39m_num_rows \u001b[38;5;241m=\u001b[39m \u001b[38;5;28mlen\u001b[39m(values)\n",
      "\u001b[0;31mValueError\u001b[0m: Column length mismatch. New column does not have the same number of rows as table."
     ]
    }
   ],
   "source": [
    "num_bets = 200\n",
    "repetitions = 10000\n",
    "\n",
    "simulated_gains_split = np.array([\n",
    "    wheel.sample(num_bets).column('Winnings: Split').sum()\n",
    "    for i in range(repetitions)\n",
    "])\n",
    "\n",
>>>>>>> 219b954 (first commit)
    "\n",
    "# Do not change the two lines below\n",
    "gains = gains.with_columns('Net Gain on Split', simulated_gains_split)\n",
    "gains.hist(bins = np.arange(-200, 150, 20))"
   ]
  },
  {
   "cell_type": "code",
   "execution_count": null,
   "id": "d47c304e",
   "metadata": {
    "deletable": false,
    "editable": false
   },
   "outputs": [],
   "source": [
    "grader.check(\"q1_9\")"
   ]
  },
  {
   "cell_type": "markdown",
   "id": "bdc8ed4f",
   "metadata": {},
   "source": [
    "---\n",
    "\n",
    "**Question 10.** Look carefully at the visualization above, and assign `histogram_statements` to an array of the numbers of each statement below that can be correctly inferred from the overlaid histogram. **(2 points)**\n",
    "\n",
    "1. If you bet one dollar 200 times on a split, your chance of losing money is more than 50%.\n",
    "2. If you bet one dollar 200 times in roulette, your chance of making more than 50 dollars is greater if you bet on a split each time than if you bet on red each time.\n",
    "3. If you bet one dollar 200 times in roulette, your chance of losing more than 50 dollars is greater if you bet on a split each time than if you bet on red each time.\n",
    "\n",
    "*Hint:* We've already seen one of these statements in a prior question.\n"
   ]
  },
  {
   "cell_type": "code",
   "execution_count": null,
   "id": "e07f522a",
   "metadata": {
    "tags": []
   },
   "outputs": [],
   "source": [
    "histogram_statements = ..."
   ]
  },
  {
   "cell_type": "code",
   "execution_count": null,
   "id": "81afb6ac",
   "metadata": {
    "deletable": false,
    "editable": false
   },
   "outputs": [],
   "source": [
    "grader.check(\"q1_10\")"
   ]
  },
  {
   "cell_type": "markdown",
   "id": "16c3f316",
   "metadata": {},
   "source": [
<<<<<<< HEAD
    "If this exercise has put you off playing roulette, it has done its job. If you are still curious about other bets, [here](https://en.wikipedia.org/wiki/Roulette#Bet_odds_table) they all are, and [here](https://en.wikipedia.org/wiki/Roulette#House_edge) is the bad news. The house \u2013 that is, the casino \u2013 always has an edge over the gambler."
=======
    "If this exercise has put you off playing roulette, it has done its job. If you are still curious about other bets, [here](https://en.wikipedia.org/wiki/Roulette#Bet_odds_table) they all are, and [here](https://en.wikipedia.org/wiki/Roulette#House_edge) is the bad news. The house – that is, the casino – always has an edge over the gambler."
>>>>>>> 219b954 (first commit)
   ]
  },
  {
   "cell_type": "markdown",
   "id": "7f90f10f",
   "metadata": {},
   "source": [
    "<hr style=\"border: 5px solid #003262;\" />\n",
    "<hr style=\"border: 1px solid #fdb515;\" />\n",
    "\n",
    "## 2. Chances"
   ]
  },
  {
   "cell_type": "markdown",
   "id": "b72d2e58",
   "metadata": {},
   "source": [
    "Before you do this exercise, make sure you understand the logic behind all the examples in [Section 9.5](https://inferentialthinking.com/chapters/09/5/Finding_Probabilities.html). \n",
    "\n",
    "Good ways to approach probability calculations include:\n",
    "\n",
    "- Thinking one trial at a time: What does the first one have to be? Then what does the next one have to be?\n",
    "- Breaking up the event into distinct ways in which it can happen.\n",
    "- Seeing if it is easier to find the chance that the event does not happen."
   ]
  },
  {
   "cell_type": "markdown",
   "id": "36b59c49",
   "metadata": {},
   "source": [
    "### Finding Chances\n",
    "\n",
    "On each spin of a roulette wheel, all 38 pockets are equally likely to be the winner regardless of the results of other spins. Among the 38 pockets, 18 are red, 18 black, and 2 green. In each part below, write an expression that evaluates to the chance of the event described."
   ]
  },
  {
   "cell_type": "markdown",
   "id": "83619a90",
   "metadata": {},
   "source": [
    "--- \n",
    "\n",
    "**Question 1.** The winning pocket is black on all of the first three spins. **(3 points)**\n"
   ]
  },
  {
   "cell_type": "code",
<<<<<<< HEAD
   "execution_count": null,
=======
   "execution_count": 37,
>>>>>>> 219b954 (first commit)
   "id": "426bd7d8",
   "metadata": {
    "tags": []
   },
   "outputs": [],
   "source": [
<<<<<<< HEAD
    "first_three_black = ..."
=======
    "first_three_black = (18 / 38) ** 3"
>>>>>>> 219b954 (first commit)
   ]
  },
  {
   "cell_type": "code",
<<<<<<< HEAD
   "execution_count": null,
=======
   "execution_count": 38,
>>>>>>> 219b954 (first commit)
   "id": "82b49836",
   "metadata": {
    "deletable": false,
    "editable": false
   },
<<<<<<< HEAD
   "outputs": [],
=======
   "outputs": [
    {
     "data": {
      "text/html": [
       "<p><strong><pre style='display: inline;'>q2_1</pre></strong> passed! 🌟</p>"
      ],
      "text/plain": [
       "q2_1 results: All test cases passed!"
      ]
     },
     "execution_count": 38,
     "metadata": {},
     "output_type": "execute_result"
    }
   ],
>>>>>>> 219b954 (first commit)
   "source": [
    "grader.check(\"q2_1\")"
   ]
  },
  {
   "cell_type": "markdown",
   "id": "60df382a",
   "metadata": {},
   "source": [
    "---\n",
    "\n",
    "**Question 2.** The color green never wins in the first 10 spins. **(3 points)**\n"
   ]
  },
  {
   "cell_type": "code",
<<<<<<< HEAD
   "execution_count": null,
=======
   "execution_count": 39,
>>>>>>> 219b954 (first commit)
   "id": "73d1c150",
   "metadata": {
    "tags": []
   },
   "outputs": [],
   "source": [
<<<<<<< HEAD
    "no_green = ..."
=======
    "no_green = 1 - (2 / 38) ** 10"
>>>>>>> 219b954 (first commit)
   ]
  },
  {
   "cell_type": "code",
<<<<<<< HEAD
   "execution_count": null,
=======
   "execution_count": 40,
>>>>>>> 219b954 (first commit)
   "id": "6ffdc70a",
   "metadata": {
    "deletable": false,
    "editable": false
   },
<<<<<<< HEAD
   "outputs": [],
=======
   "outputs": [
    {
     "data": {
      "text/html": [
       "<p><strong><pre style='display: inline;'>q2_2</pre></strong> passed! 🎉</p>"
      ],
      "text/plain": [
       "q2_2 results: All test cases passed!"
      ]
     },
     "execution_count": 40,
     "metadata": {},
     "output_type": "execute_result"
    }
   ],
>>>>>>> 219b954 (first commit)
   "source": [
    "grader.check(\"q2_2\")"
   ]
  },
  {
   "cell_type": "markdown",
   "id": "d5d0aace",
   "metadata": {},
   "source": [
    "---\n",
    "\n",
    "**Question 3.** The color green wins **at least once** on the first 10 spins. **(3 points)**\n"
   ]
  },
  {
   "cell_type": "code",
<<<<<<< HEAD
   "execution_count": null,
=======
   "execution_count": 41,
>>>>>>> 219b954 (first commit)
   "id": "7db57353",
   "metadata": {
    "tags": []
   },
   "outputs": [],
   "source": [
<<<<<<< HEAD
    "at_least_one_green = ..."
=======
    "at_least_one_green = 1 - no_green"
>>>>>>> 219b954 (first commit)
   ]
  },
  {
   "cell_type": "code",
<<<<<<< HEAD
   "execution_count": null,
=======
   "execution_count": 42,
>>>>>>> 219b954 (first commit)
   "id": "59d0f004",
   "metadata": {
    "deletable": false,
    "editable": false
   },
<<<<<<< HEAD
   "outputs": [],
=======
   "outputs": [
    {
     "data": {
      "text/html": [
       "<p><strong><pre style='display: inline;'>q2_3</pre></strong> passed! ✨</p>"
      ],
      "text/plain": [
       "q2_3 results: All test cases passed!"
      ]
     },
     "execution_count": 42,
     "metadata": {},
     "output_type": "execute_result"
    }
   ],
>>>>>>> 219b954 (first commit)
   "source": [
    "grader.check(\"q2_3\")"
   ]
  },
  {
   "cell_type": "markdown",
   "id": "dca5ffbe",
   "metadata": {},
   "source": [
    "--- \n",
    "\n",
    "**Question 4.** Two of the three colors **never** win in the first 10 spins. **(3 points)**\n",
    "\n",
    "*Hint:* What situation(s) lead to two of the three colors never winning in the first 10 spins?\n"
   ]
  },
  {
   "cell_type": "code",
   "execution_count": null,
   "id": "ec34cc22",
   "metadata": {
    "tags": []
   },
   "outputs": [],
   "source": [
    "lone_winners = ..."
   ]
  },
  {
   "cell_type": "code",
   "execution_count": null,
   "id": "06fd6eae",
   "metadata": {
    "deletable": false,
    "editable": false
   },
   "outputs": [],
   "source": [
    "grader.check(\"q2_4\")"
   ]
  },
  {
   "cell_type": "markdown",
   "id": "aadb70a3",
   "metadata": {},
   "source": [
    "### Comparing Chances\n",
    "In each of Questions 5-7, two events A and B are described. Choose from one of the following three options and set each answer variable to a single integer:\n",
    "\n",
    "1. Event A is more likely than Event B\n",
    "2. Event B is more likely than Event A\n",
    "3. The two events have the same chance.\n",
    "\n",
    "You should be able to make the choices **without calculation**. Good ways to approach this exercise include imagining carrying out the chance experiments yourself, one trial at a time, and by thinking about the [law of averages](https://inferentialthinking.com/chapters/10/1/Empirical_Distributions.html#the-law-of-averages)."
   ]
  },
  {
   "cell_type": "markdown",
   "id": "9c0e630a",
   "metadata": {},
   "source": [
    "---\n",
    "\n",
    "**Question 5.** A child picks four times at random from a box that has four toy animals: a bear, an elephant, a giraffe, and a kangaroo. **(2 points)**\n",
    "\n",
    "- Event A: all four different animals are picked (assuming the child picks without replacement)\n",
    "- Event B: all four different animals are picked (assuming the child picks with replacement)\n"
   ]
  },
  {
   "cell_type": "code",
   "execution_count": null,
   "id": "b6b63df5",
   "metadata": {
    "tags": []
   },
   "outputs": [],
   "source": [
    "toys_option = ..."
   ]
  },
  {
   "cell_type": "code",
   "execution_count": null,
   "id": "3b30d692",
   "metadata": {
    "deletable": false,
    "editable": false
   },
   "outputs": [],
   "source": [
    "grader.check(\"q2_5\")"
   ]
  },
  {
   "cell_type": "markdown",
   "id": "ea0f24a0",
   "metadata": {},
   "source": [
    "---\n",
    "\n",
    "**Question 6.** In a lottery, two numbers are drawn at random with replacement from the integers 1 through 1000. **(2 points)**\n",
    "\n",
    "- Event A: The number 8 is picked on both draws\n",
    "- Event B: The same number is picked on both draws\n"
   ]
  },
  {
   "cell_type": "code",
   "execution_count": null,
   "id": "f2b16f35",
   "metadata": {
    "tags": []
   },
   "outputs": [],
   "source": [
    "lottery_option = ..."
   ]
  },
  {
   "cell_type": "code",
   "execution_count": null,
   "id": "312f6f47",
   "metadata": {
    "deletable": false,
    "editable": false
   },
   "outputs": [],
   "source": [
    "grader.check(\"q2_6\")"
   ]
  },
  {
   "cell_type": "markdown",
   "id": "17462843",
   "metadata": {},
   "source": [
    "---\n",
    "\n",
    "**Question 7.** A fair coin is tossed repeatedly. **(2 points)**\n",
    "\n",
    "- Event A: There are 60 or more heads in 100 tosses\n",
    "- Event B: There are 600 or more heads in 1000 tosses\n",
    "\n",
    "*Hint*: Think about the law of averages!\n"
   ]
  },
  {
   "cell_type": "code",
   "execution_count": null,
   "id": "4a0c609d",
   "metadata": {
    "tags": []
   },
   "outputs": [],
   "source": [
    "coin_option = ..."
   ]
  },
  {
   "cell_type": "code",
   "execution_count": null,
   "id": "b74c557b",
   "metadata": {
    "deletable": false,
    "editable": false
   },
   "outputs": [],
   "source": [
    "grader.check(\"q2_7\")"
   ]
  },
  {
   "cell_type": "markdown",
   "id": "ad112644",
   "metadata": {},
   "source": [
    "<hr style=\"border: 5px solid #003262;\" />\n",
    "<hr style=\"border: 1px solid #fdb515;\" />\n",
    "\n",
    "## 3. Three Ways Python Draws Random Samples"
   ]
  },
  {
   "cell_type": "markdown",
   "id": "0fc94c99",
   "metadata": {},
   "source": [
    "You have learned three ways to draw random samples using Python:\n",
    "\n",
    "- `tbl.sample` draws a random sample of rows from the table `tbl`. The output is a table consisting of the sampled rows. \n",
    "\n",
    "- `np.random.choice` draws a random sample from a population whose elements are in an array. The output is an array consisting of the sampled elements.\n",
    "\n",
    "- `sample_proportions` draws from a categorical distribution whose proportions are in an array. The output is an array consisting of the sampled proportions in all the categories. "
   ]
  },
  {
   "cell_type": "code",
<<<<<<< HEAD
   "execution_count": null,
   "id": "d5a51d4f",
   "metadata": {},
   "outputs": [],
=======
   "execution_count": 43,
   "id": "d5a51d4f",
   "metadata": {},
   "outputs": [
    {
     "data": {
      "text/html": [
       "<table border=\"1\" class=\"dataframe\">\n",
       "    <thead>\n",
       "        <tr>\n",
       "            <th>Title</th> <th>Studio</th>\n",
       "        </tr>\n",
       "    </thead>\n",
       "    <tbody>\n",
       "        <tr>\n",
       "            <td>Gone with the Wind</td> <td>MGM   </td>\n",
       "        </tr>\n",
       "        <tr>\n",
       "            <td>Star Wars         </td> <td>Fox   </td>\n",
       "        </tr>\n",
       "        <tr>\n",
       "            <td>The Sound of Music</td> <td>Fox   </td>\n",
       "        </tr>\n",
       "    </tbody>\n",
       "</table>\n",
       "<p>... (197 rows omitted)</p>"
      ],
      "text/plain": [
       "<IPython.core.display.HTML object>"
      ]
     },
     "metadata": {},
     "output_type": "display_data"
    }
   ],
>>>>>>> 219b954 (first commit)
   "source": [
    "# Look through this code and run this cell for questions 1 and 2\n",
    "top_movies = Table.read_table('top_movies_2017.csv').select(0, 1)\n",
    "top_movies.show(3)"
   ]
  },
  {
   "cell_type": "code",
<<<<<<< HEAD
   "execution_count": null,
   "id": "0dfeda0b",
   "metadata": {},
   "outputs": [],
=======
   "execution_count": 44,
   "id": "0dfeda0b",
   "metadata": {},
   "outputs": [
    {
     "data": {
      "text/html": [
       "<table border=\"1\" class=\"dataframe\">\n",
       "    <thead>\n",
       "        <tr>\n",
       "            <th>Studio</th> <th>count</th>\n",
       "        </tr>\n",
       "    </thead>\n",
       "    <tbody>\n",
       "        <tr>\n",
       "            <td>Buena Vista    </td> <td>35   </td>\n",
       "        </tr>\n",
       "        <tr>\n",
       "            <td>Warner Brothers</td> <td>29   </td>\n",
       "        </tr>\n",
       "        <tr>\n",
       "            <td>Paramount      </td> <td>25   </td>\n",
       "        </tr>\n",
       "    </tbody>\n",
       "</table>\n",
       "<p>... (20 rows omitted)</p>"
      ],
      "text/plain": [
       "<IPython.core.display.HTML object>"
      ]
     },
     "metadata": {},
     "output_type": "display_data"
    }
   ],
>>>>>>> 219b954 (first commit)
   "source": [
    "# Look through this code and run this cell for questions 1 and 2\n",
    "studios_with_counts = top_movies.group('Studio').sort('count', descending=True)\n",
    "studios_with_counts.show(3)"
   ]
  },
  {
   "cell_type": "code",
<<<<<<< HEAD
   "execution_count": null,
   "id": "6bcb34ba",
   "metadata": {},
   "outputs": [],
=======
   "execution_count": 45,
   "id": "6bcb34ba",
   "metadata": {},
   "outputs": [
    {
     "name": "stdout",
     "output_type": "stream",
     "text": [
      "studios_of_all_movies: ['MGM' 'Fox' 'Fox' 'Universal' 'Paramount' 'Paramount' 'Universal' 'MGM'\n",
      " 'Warner Brothers' 'Disney'] ...\n",
      "\n",
      " distinct_studios: ['Buena Vista' 'Warner Brothers' 'Paramount' 'Fox' 'Universal' 'Disney'\n",
      " 'Columbia' 'MGM' 'United Artists' 'Newline' 'Paramount/Dreamworks' 'Sony'\n",
      " 'Dreamworks' 'Lionsgate' 'RKO' 'Tristar' 'AVCO' 'IFC' 'Metro' 'NM' 'Orion'\n",
      " 'Selz.' 'Sum.']\n"
     ]
    }
   ],
>>>>>>> 219b954 (first commit)
   "source": [
    "# Look through this code and run this cell for questions 1 and 2\n",
    "studios_of_all_movies = top_movies.column('Studio')\n",
    "distinct_studios = studios_with_counts.column('Studio')\n",
    "\n",
    "print(\"studios_of_all_movies:\", studios_of_all_movies[:10], \"...\")\n",
    "print(\"\\n distinct_studios:\", distinct_studios)"
   ]
  },
  {
   "cell_type": "code",
<<<<<<< HEAD
   "execution_count": null,
   "id": "f12037f6",
   "metadata": {},
   "outputs": [],
=======
   "execution_count": 46,
   "id": "f12037f6",
   "metadata": {},
   "outputs": [
    {
     "name": "stdout",
     "output_type": "stream",
     "text": [
      "studio_counts_only: [35 29 25 24 23 11  9  7  6  5  4  4  3  3  3  2  1  1  1  1  1  1  1]\n",
      "\n",
      " studio_proportions_only: [ 0.175  0.145  0.125  0.12   0.115  0.055  0.045  0.035  0.03   0.025\n",
      "  0.02   0.02   0.015  0.015  0.015  0.01   0.005  0.005  0.005  0.005\n",
      "  0.005  0.005  0.005]\n"
     ]
    }
   ],
>>>>>>> 219b954 (first commit)
   "source": [
    "# Look through this code and run this cell for questions 1 and 2\n",
    "studio_counts_only = studios_with_counts.column('count')\n",
    "studio_proportions_only = studio_counts_only / sum(studio_counts_only)\n",
    "\n",
    "print(\"studio_counts_only:\", studio_counts_only)\n",
    "print(\"\\n studio_proportions_only:\", studio_proportions_only)"
   ]
  },
  {
   "attachments": {},
   "cell_type": "markdown",
   "id": "aa0ad8c5",
   "metadata": {},
   "source": [
    "In Questions 1 and 2, we will present a scenario. For each scenario, we will ask whether the desired result can be achieved by using a given function and the following tables/arrays: `top_movies`, `studios_with_counts`, `studios_of_all_movies`, `distinct_studios`, `studio_counts_only` and `studio_proportions_only`. You can assume we know which index of the array corresponds with the studio with that movie count/proportion.\n",
    "\n",
    "_Note: **Do not** explain your answer; please answer yes or no and the name of the array/table._"
   ]
  },
  {
   "attachments": {},
   "cell_type": "markdown",
   "id": "da7abb99",
   "metadata": {},
   "source": [
    "---\n",
    "\n",
    "**Question 1.** Simulate a sample of 10 movies drawn at random with replacement from the 200 movies. Using just this sample, do we have enough information to output `True` if Paramount appears more often than Warner Brothers among studios that released the sampled movies, and `False` otherwise?\n",
    "\n",
    "*Example Answer:* Yes, with \"studio_proportions_only\".\n",
    "\n",
    "***Note***: Do not explain your answer for any of the options you've chosen; please follow the structure of the example answer provided."
   ]
  },
  {
   "cell_type": "markdown",
   "id": "630f6c0e",
   "metadata": {},
   "source": [
    "<!-- BEGIN QUESTION -->\n",
    "\n",
    "**Question 1(a)** Can this be done using the `sample` function? If yes, what table would we call `sample` on? **(1 point)**\n"
   ]
  },
  {
   "cell_type": "markdown",
   "id": "b8d44d00",
   "metadata": {},
   "source": [
    "_Type your answer here, replacing this text._"
   ]
  },
  {
   "cell_type": "markdown",
   "id": "6c32098b",
   "metadata": {},
   "source": [
    "<!-- END QUESTION -->\n",
    "\n",
    "<!-- BEGIN QUESTION -->\n",
    "\n",
    "**Question 1(b)** Can this be done using the `np.random.choice` function? If yes, what array would we call `np.random.choice` on? **(1 point)**\n"
   ]
  },
  {
   "cell_type": "markdown",
   "id": "cd9070c4",
   "metadata": {},
   "source": [
    "_Type your answer here, replacing this text._"
   ]
  },
  {
   "cell_type": "markdown",
   "id": "425f3d47",
   "metadata": {},
   "source": [
    "<!-- END QUESTION -->\n",
    "\n",
    "<!-- BEGIN QUESTION -->\n",
    "\n",
    "**Question 1(c)** Can this be done using the `sample_proportions` function? If yes, what array would we call `sample_proportions` on? **(1 point)**\n"
   ]
  },
  {
   "cell_type": "markdown",
   "id": "a2783796",
   "metadata": {},
   "source": [
    "_Type your answer here, replacing this text._"
   ]
  },
  {
   "attachments": {},
   "cell_type": "markdown",
   "id": "e2adb780",
   "metadata": {},
   "source": [
    "<!-- END QUESTION -->\n",
    "\n",
    "---\n",
    "\n",
    "**Question 2.** Simulate a sample of 10 movies drawn at random with replacement from the 200 movies. Using just this sample, do we have enough information to output `True` if the first sampled movie was released by the same studio as the last sampled movie? **(3 points)**\n",
    "\n",
    "*Example Answer:* Yes, with \"studio_proportions_only\".\n",
    "\n",
    "***Note***: Do not explain your answer for any of the options you've chosen; please follow the structure of the example answer provided.\n"
   ]
  },
  {
   "cell_type": "markdown",
   "id": "2f74d8c5",
   "metadata": {},
   "source": [
    "<!-- BEGIN QUESTION -->\n",
    "\n",
    "**Question 2(a)** Can this be done using the `sample` function? If yes, what table would we call `sample` on? **(1 point)**\n"
   ]
  },
  {
   "cell_type": "markdown",
   "id": "eeb66753",
   "metadata": {},
   "source": [
    "_Type your answer here, replacing this text._"
   ]
  },
  {
   "cell_type": "markdown",
   "id": "1ec0e72d",
   "metadata": {},
   "source": [
    "<!-- END QUESTION -->\n",
    "\n",
    "<!-- BEGIN QUESTION -->\n",
    "\n",
    "**Question 2(b)** Can this be done using the `np.random.choice` function? If yes, what array would we call `np.random.choice` on? **(1 point)**\n"
   ]
  },
  {
   "cell_type": "markdown",
   "id": "66213c34",
   "metadata": {},
   "source": [
    "_Type your answer here, replacing this text._"
   ]
  },
  {
   "cell_type": "markdown",
   "id": "b314de5c",
   "metadata": {},
   "source": [
    "<!-- END QUESTION -->\n",
    "\n",
    "<!-- BEGIN QUESTION -->\n",
    "\n",
    "**Question 2(c)** Can this be done using the `sample_proportions` function? If yes, what array would we call `sample_proportions` on? **(1 point)**\n"
   ]
  },
  {
   "cell_type": "markdown",
   "id": "8c75db18",
   "metadata": {},
   "source": [
    "_Type your answer here, replacing this text._"
   ]
  },
  {
   "cell_type": "markdown",
   "id": "74396e59",
   "metadata": {
    "tags": []
   },
   "source": [
    "<!-- END QUESTION -->\n",
    "\n",
    "<hr style=\"border: 5px solid #003262;\" />\n",
    "<hr style=\"border: 1px solid #fdb515;\" />\n",
    "\n",
    "## 4. Assessing Jade's Models\n",
    "\n",
    "Before you begin, [Section 10.4](https://inferentialthinking.com/chapters/10/4/Random_Sampling_in_Python.html) of the textbook is a useful reference for this part."
   ]
  },
  {
   "cell_type": "markdown",
   "id": "7c494623",
   "metadata": {},
   "source": [
    "### Games with Jade\n",
    "Our friend Jade comes over and asks us to play a game with her. The game works like this: \n",
    "\n",
    "> We will draw randomly with replacement from a simplified 13 card deck with 4 face cards (A, J, Q, K), and 9 numbered cards (2, 3, 4, 5, 6, 7, 8, 9, 10). If we draw cards with replacement 13 times, and if the number of face cards is greater than or equal to 4, we lose.\n",
    "> \n",
    "> Otherwise, Jade loses.\n",
    "\n",
    "We play the game once and we lose, observing 8 total face cards. We are angry and accuse Jade of cheating! Jade is adamant, however, that the deck is fair.\n",
    "\n",
    "Jade's model claims that there is an equal chance of getting any of the cards (A, 2, 3, 4, 5, 6, 7, 8, 9, 10, J, Q, K), but we do not believe her. We believe that the deck is clearly rigged, with face cards (A, J, Q, K) being more likely than the numbered cards (2, 3, 4, 5, 6, 7, 8, 9, 10)."
   ]
  },
  {
   "cell_type": "markdown",
   "id": "9f568bfb",
   "metadata": {},
   "source": [
    "---\n",
    "\n",
    "**Question 1.** Assign `deck_model_probabilities` to a two-item array containing the chance of drawing a face card as the first element, and the chance of drawing a numbered card as the second element under Jade's model. Since we're working with probabilities, make sure your values are between 0 and 1. **(3 Points)**\n"
   ]
  },
  {
   "cell_type": "code",
   "execution_count": null,
   "id": "62a17b46",
   "metadata": {
    "tags": []
   },
   "outputs": [],
   "source": [
    "deck_model_probabilities = ...\n",
    "deck_model_probabilities"
   ]
  },
  {
   "cell_type": "code",
   "execution_count": null,
   "id": "8ff80e59",
   "metadata": {
    "deletable": false,
    "editable": false
   },
   "outputs": [],
   "source": [
    "grader.check(\"q4_1\")"
   ]
  },
  {
   "cell_type": "markdown",
   "id": "d3f3c78f",
   "metadata": {},
   "source": [
    "--- \n",
    "\n",
    "**Question 2.** We believe Jade's model is incorrect. In particular, we believe there to be a *larger* chance of getting a face card. Which of the following statistics can we use during our simulation to test between the model and our alternative? Assign `statistic_choice` to the correct answer. **(3 Points)**\n",
    "\n",
    "1. The distance (absolute value) between the actual number of face cards in 13 draws and 4, the expected number of face cards in 13 draws\n",
    "2. The expected number of face cards in 13 draws\n",
    "3. The number of face cards we get in 13 draws\n"
   ]
  },
  {
   "cell_type": "code",
   "execution_count": null,
   "id": "69b61e9b",
   "metadata": {
    "tags": []
   },
   "outputs": [],
   "source": [
    "statistic_choice = ...\n",
    "statistic_choice"
   ]
  },
  {
   "cell_type": "code",
   "execution_count": null,
   "id": "350cab3b",
   "metadata": {
    "deletable": false,
    "editable": false
   },
   "outputs": [],
   "source": [
    "grader.check(\"q4_2\")"
   ]
  },
  {
   "cell_type": "markdown",
   "id": "ba30a330",
   "metadata": {},
   "source": [
    "---\n",
    "\n",
    "**Question 3.** Define the function `deck_simulation_and_statistic`, which, given a sample size and an array of model proportions (like the one you created in Question 1), returns the **number of face cards** in one simulation of drawing cards under the model specified in `model_proportions`. **(5 Points)**\n",
    "\n",
    "*Hint:* Think about how you can use the function `sample_proportions`. \n"
   ]
  },
  {
   "cell_type": "code",
   "execution_count": null,
   "id": "a185e46c",
   "metadata": {
    "tags": []
   },
   "outputs": [],
   "source": [
    "def deck_simulation_and_statistic(sample_size, model_proportions):\n",
    "    ...\n",
    "\n",
    "deck_simulation_and_statistic(13, deck_model_probabilities)"
   ]
  },
  {
   "cell_type": "code",
   "execution_count": null,
   "id": "357fc044",
   "metadata": {
    "deletable": false,
    "editable": false
   },
   "outputs": [],
   "source": [
    "grader.check(\"q4_3\")"
   ]
  },
  {
   "cell_type": "markdown",
   "id": "aecf79b2",
   "metadata": {},
   "source": [
    "---\n",
    "\n",
    "**Question 4.** Use your function from above to simulate the drawing of 13 cards 5000 times under the proportions that you specified in Question 1. Keep track of all of your statistics in `deck_statistics`. **(5 Points)**\n"
   ]
  },
  {
   "cell_type": "code",
   "execution_count": null,
   "id": "413564a2",
   "metadata": {
    "tags": []
   },
   "outputs": [],
   "source": [
    "repetitions = 5000 \n",
    "...\n",
    "\n",
    "deck_statistics"
   ]
  },
  {
   "cell_type": "code",
   "execution_count": null,
   "id": "cb62d8ef",
   "metadata": {
    "deletable": false,
    "editable": false
   },
   "outputs": [],
   "source": [
    "grader.check(\"q4_4\")"
   ]
  },
  {
   "cell_type": "markdown",
   "id": "d05e03ab",
   "metadata": {},
   "source": [
<<<<<<< HEAD
    "Let\u2019s take a look at the distribution of simulated statistics."
=======
    "Let’s take a look at the distribution of simulated statistics."
>>>>>>> 219b954 (first commit)
   ]
  },
  {
   "cell_type": "code",
   "execution_count": null,
   "id": "da67d158",
   "metadata": {},
   "outputs": [],
   "source": [
    "# Draw a distribution of statistics \n",
    "Table().with_column('Deck Statistics', deck_statistics).hist()"
   ]
  },
  {
   "cell_type": "markdown",
   "id": "06e18b6c",
   "metadata": {},
   "source": [
    "<!-- BEGIN QUESTION -->\n",
    "\n",
    "---\n",
    "\n",
    "**Question 5.** Given your observed value, do you believe that Jade's model is reasonable, or is our alternative (that our deck is rigged) more likely? Explain your answer using the histogram of statistics simulated using Jade's model (produced above). **(4 Points)**\n"
   ]
  },
  {
   "cell_type": "markdown",
   "id": "99c7342d",
   "metadata": {},
   "source": [
    "_Type your answer here, replacing this text._"
   ]
  },
  {
   "attachments": {},
   "cell_type": "markdown",
   "id": "009dbe46",
   "metadata": {},
   "source": [
    "<!-- END QUESTION -->\n",
    "\n",
    "You're done with Homework 6!  \n",
    "\n",
    "**Important submission steps:** \n",
    "1. Run the tests and verify that they all pass.\n",
    "2. Choose **Save Notebook** from the **File** menu, then **run the final cell**. \n",
    "3. Click the link to download the zip file.\n",
    "4. Go to [Gradescope](https://www.gradescope.com/courses/703847) and submit the zip file to the corresponding assignment. The name of this assignment is \"HW 06 Autograder\". \n",
    "\n",
    "**It is your responsibility to make sure your work is saved before running the last cell.**"
   ]
  },
  {
   "attachments": {},
   "cell_type": "markdown",
   "id": "028f942b",
   "metadata": {},
   "source": [
    "## Pets of Data 8\n",
    "**Cookie** says congrats on finishing HW6!\n",
    "\n",
    "<img src=\"./cookie.jpeg\" width=\"40%\" alt=\"Two quakers resting\"/>"
   ]
  },
  {
   "cell_type": "markdown",
   "id": "6893d129",
   "metadata": {},
   "source": [
    "## Submission\n",
    "\n",
    "Below, you will see two cells. Running the first cell will automatically generate a PDF of all questions that need to be manually graded, and running the second cell will automatically generate a zip with your autograded answers. You are responsible for submitting both the coding portion (the zip) and the written portion (the PDF) to their respective Gradescope portals. **Please save before exporting!**\n",
    "\n",
    "> **Important: You must correctly assign the pages of your PDF after you submit to the correct gradescope assignment. If your pages are not correctly assigned and/or not in the correct PDF format by the deadline, we reserve the right to award no points for your written work.**\n",
    "\n",
    "If there are issues with automatically generating the PDF in the first cell, you can try downloading the notebook as a PDF by colicking on `File -> Save and Export Notebook As... -> PDF`. If that doesn't work either, you can manually take screenshots of your answers to the manually graded questions and submit those. Either way, **you are responsible for ensuring your submision follows our requirements, we will NOT be granting regrade requests for submissions that don't follow instructions.**\n",
    "\n",
    "**You must submit the PDF generated via one of these methods, we will not accept screenshots or Word documents.**"
   ]
  },
  {
   "cell_type": "code",
   "execution_count": null,
   "id": "ce528d8f",
   "metadata": {},
   "outputs": [],
   "source": [
    "from otter.export import export_notebook\n",
    "from os import path\n",
    "from IPython.display import display, HTML\n",
    "name = 'hw06'\n",
    "export_notebook(f\"{name}.ipynb\", filtering=True, pagebreaks=True)\n",
    "if(path.exists(f'{name}.pdf')):\n",
    "    display(HTML(f\"Download your PDF <a href='{name}.pdf' download>here</a>.\"))\n",
    "else:\n",
    "    print(\"\\n Pdf generation failed, please try the other methods described above\")"
   ]
  },
  {
   "cell_type": "markdown",
   "id": "108028fc",
   "metadata": {
    "deletable": false,
    "editable": false
   },
   "source": [
    "## Submission\n",
    "\n",
    "Make sure you have run all cells in your notebook in order before running the cell below, so that all images/graphs appear in the output. The cell below will generate a zip file for you to submit. **Please save before exporting!**"
   ]
  },
  {
   "cell_type": "code",
   "execution_count": null,
   "id": "94824e6e",
   "metadata": {
    "deletable": false,
    "editable": false
   },
   "outputs": [],
   "source": [
    "# Save your notebook first, then run this cell to export your submission.\n",
    "grader.export(pdf=False, run_tests=True)"
   ]
  },
  {
   "cell_type": "markdown",
   "id": "6b14d041",
   "metadata": {},
   "source": [
    " "
   ]
  }
 ],
 "metadata": {
  "kernelspec": {
   "display_name": "Python 3",
   "language": "python",
   "name": "python3"
  },
  "language_info": {
   "codemirror_mode": {
    "name": "ipython",
    "version": 3
   },
   "file_extension": ".py",
   "mimetype": "text/x-python",
   "name": "python",
   "nbconvert_exporter": "python",
   "pygments_lexer": "ipython3",
<<<<<<< HEAD
   "version": "3.12.6"
=======
   "version": "3.12.3"
>>>>>>> 219b954 (first commit)
  },
  "otter": {
   "OK_FORMAT": true,
   "tests": {
    "q1_1": {
     "name": "q1_1",
     "points": [
      2
     ],
     "suites": [
      {
       "cases": [
        {
         "code": ">>> dollar_bet_on_red('red') == 1\nTrue",
         "hidden": false,
         "locked": false
        }
       ],
       "scored": true,
       "setup": "",
       "teardown": "",
       "type": "doctest"
      }
     ]
    },
    "q1_10": {
     "name": "q1_10",
     "points": [
      0,
      0,
      0
     ],
     "suites": [
      {
       "cases": [
        {
         "code": ">>> # Make sure histogram_statements is an array.\n>>> import numpy as np\n>>> type(histogram_statements) == np.ndarray\nTrue",
         "hidden": false,
         "locked": false
        },
        {
         "code": ">>> # Make sure you have set histogram_statements to an array with at least 1 number\n>>> 1 <= histogram_statements.item(0) <= 3\nTrue",
         "hidden": false,
         "locked": false
        },
        {
         "code": ">>> # make sure all elements are between 1 and 3\n>>> all(histogram_statements <= 3) and all(histogram_statements >= 1)\nTrue",
         "hidden": false,
         "locked": false
        }
       ],
       "scored": true,
       "setup": "",
       "teardown": "",
       "type": "doctest"
      }
     ]
    },
    "q1_2": {
     "name": "q1_2",
     "points": [
      0
     ],
     "suites": [
      {
       "cases": [
        {
         "code": ">>> # Make sure your column names are correct\n>>> wheel.labels[2] == \"Winnings: Red\"\nTrue",
         "hidden": false,
         "locked": false
        }
       ],
       "scored": true,
       "setup": "",
       "teardown": "",
       "type": "doctest"
      }
     ]
    },
    "q1_3": {
     "name": "q1_3",
     "points": [
      0,
      0
     ],
     "suites": [
      {
       "cases": [
        {
         "code": ">>> # If this test isn't passing, try running the cells from the top.\n>>> set([\"Pocket\", \"Color\", \"Winnings: Red\"]) == set(ten_bets.labels)\nTrue",
         "hidden": false,
         "locked": false
        },
        {
         "code": ">>> # Checks that ten_bets doesn't have the same number of rows as wheel\n>>> ten_bets.num_rows != wheel.num_rows\nTrue",
         "hidden": false,
         "locked": false
        }
       ],
       "scored": true,
       "setup": "",
       "teardown": "",
       "type": "doctest"
      }
     ]
    },
    "q1_4": {
     "name": "q1_4",
     "points": [
      0
     ],
     "suites": [
      {
       "cases": [
        {
         "code": ">>> net_gain_red(10000) != net_gain_red(10000)\nTrue",
         "hidden": false,
         "locked": false
        }
       ],
       "scored": true,
       "setup": "",
       "teardown": "",
       "type": "doctest"
      }
     ]
    },
    "q1_5": {
     "name": "q1_5",
     "points": [
      0
     ],
     "suites": [
      {
       "cases": [
        {
         "code": ">>> # Make sure simulated_gains_red is an array.\n>>> import numpy as np\n>>> type(simulated_gains_red) == np.ndarray\nTrue",
         "hidden": false,
         "locked": false
        }
       ],
       "scored": true,
       "setup": "",
       "teardown": "",
       "type": "doctest"
      }
     ]
    },
    "q1_6": {
     "name": "q1_6",
     "points": [
      0
     ],
     "suites": [
      {
       "cases": [
        {
         "code": ">>> type(loss_more_than_50) == bool\nTrue",
         "hidden": false,
         "locked": false
        }
       ],
       "scored": true,
       "setup": "",
       "teardown": "",
       "type": "doctest"
      }
     ]
    },
    "q1_7": {
     "name": "q1_7",
     "points": [
      2
     ],
     "suites": [
      {
       "cases": [
        {
         "code": ">>> dollar_bet_on_split('5') == 17\nTrue",
         "hidden": false,
         "locked": false
        }
       ],
       "scored": true,
       "setup": "",
       "teardown": "",
       "type": "doctest"
      }
     ]
    },
    "q1_8": {
     "name": "q1_8",
     "points": [
      0
     ],
     "suites": [
      {
       "cases": [
        {
         "code": ">>> # Make sure your column names are correct\n>>> wheel.labels[3] == \"Winnings: Split\"\nTrue",
         "hidden": false,
         "locked": false
        }
       ],
       "scored": true,
       "setup": "",
       "teardown": "",
       "type": "doctest"
      }
     ]
    },
    "q1_9": {
     "name": "q1_9",
     "points": [
      0
     ],
     "suites": [
      {
       "cases": [
        {
         "code": ">>> # Make sure simulated_gains_split is an array.\n>>> import numpy as np\n>>> type(simulated_gains_split) == np.ndarray\nTrue",
         "hidden": false,
         "locked": false
        }
       ],
       "scored": true,
       "setup": "",
       "teardown": "",
       "type": "doctest"
      }
     ]
    },
    "q2_1": {
     "name": "q2_1",
     "points": [
      0
     ],
     "suites": [
      {
       "cases": [
        {
         "code": ">>> # Your probability output should be a value between 0 and 1.\n>>> 0 < first_three_black < 1\nTrue",
         "hidden": false,
         "locked": false
        }
       ],
       "scored": true,
       "setup": "",
       "teardown": "",
       "type": "doctest"
      }
     ]
    },
    "q2_2": {
     "name": "q2_2",
     "points": [
      0
     ],
     "suites": [
      {
       "cases": [
        {
         "code": ">>> # Your probability output should be a value between 0 and 1.\n>>> 0 < no_green < 1\nTrue",
         "hidden": false,
         "locked": false
        }
       ],
       "scored": true,
       "setup": "",
       "teardown": "",
       "type": "doctest"
      }
     ]
    },
    "q2_3": {
     "name": "q2_3",
     "points": [
      0
     ],
     "suites": [
      {
       "cases": [
        {
         "code": ">>> # Your probability output should be a value between 0 and 1.\n>>> 0 < at_least_one_green < 1\nTrue",
         "hidden": false,
         "locked": false
        }
       ],
       "scored": true,
       "setup": "",
       "teardown": "",
       "type": "doctest"
      }
     ]
    },
    "q2_4": {
     "name": "q2_4",
     "points": [
      0
     ],
     "suites": [
      {
       "cases": [
        {
         "code": ">>> # Your probability output should be a value between 0 and 1.\n>>> 0 < lone_winners < 1\nTrue",
         "hidden": false,
         "locked": false
        }
       ],
       "scored": true,
       "setup": "",
       "teardown": "",
       "type": "doctest"
      }
     ]
    },
    "q2_5": {
     "name": "q2_5",
     "points": [
      0,
      0
     ],
     "suites": [
      {
       "cases": [
        {
         "code": ">>> # Make sure you are setting toys_option to an int\n>>> type(toys_option) == int\nTrue",
         "hidden": false,
         "locked": false
        },
        {
         "code": ">>> # toys_option should be assigned to either 1, 2 or 3.\n>>> 1 <= toys_option <= 3\nTrue",
         "hidden": false,
         "locked": false
        }
       ],
       "scored": true,
       "setup": "",
       "teardown": "",
       "type": "doctest"
      }
     ]
    },
    "q2_6": {
     "name": "q2_6",
     "points": [
      0,
      0
     ],
     "suites": [
      {
       "cases": [
        {
         "code": ">>> # Make sure you are setting lottery_option to an int\n>>> type(lottery_option) == int\nTrue",
         "hidden": false,
         "locked": false
        },
        {
         "code": ">>> # toys_option should be assigned to either 1, 2 or 3.\n>>> 1 <= lottery_option <= 3\nTrue",
         "hidden": false,
         "locked": false
        }
       ],
       "scored": true,
       "setup": "",
       "teardown": "",
       "type": "doctest"
      }
     ]
    },
    "q2_7": {
     "name": "q2_7",
     "points": [
      0,
      0
     ],
     "suites": [
      {
       "cases": [
        {
         "code": ">>> # Make sure you are setting coin_option to an int\n>>> type(coin_option) == int\nTrue",
         "hidden": false,
         "locked": false
        },
        {
         "code": ">>> 1 <= coin_option <= 3\nTrue",
         "hidden": false,
         "locked": false
        }
       ],
       "scored": true,
       "setup": "",
       "teardown": "",
       "type": "doctest"
      }
     ]
    },
    "q4_1": {
     "name": "q4_1",
     "points": [
      0,
      0,
      0
     ],
     "suites": [
      {
       "cases": [
        {
         "code": ">>> # Make sure deck_model_probabilities is an array.\n>>> type(deck_model_probabilities) == np.ndarray\nTrue",
         "hidden": false,
         "locked": false
        },
        {
         "code": ">>> # The array should have length 2\n>>> len(deck_model_probabilities) == 2\nTrue",
         "hidden": false,
         "locked": false
        },
        {
         "code": ">>> # The elements in the array should add up to 1.\n>>> sum(deck_model_probabilities) == 1\nTrue",
         "hidden": false,
         "locked": false
        }
       ],
       "scored": true,
       "setup": "",
       "teardown": "",
       "type": "doctest"
      }
     ]
    },
    "q4_2": {
     "name": "q4_2",
     "points": [
      0,
      0
     ],
     "suites": [
      {
       "cases": [
        {
         "code": ">>> # Make sure you are setting statistic_choice to an int\n>>> type(statistic_choice) == int\nTrue",
         "hidden": false,
         "locked": false
        },
        {
         "code": ">>> # statistic_choice should be assigned to either 1, 2 or 3.\n>>> 1 <= statistic_choice <= 3\nTrue",
         "hidden": false,
         "locked": false
        }
       ],
       "scored": true,
       "setup": "",
       "teardown": "",
       "type": "doctest"
      }
     ]
    },
    "q4_3": {
     "name": "q4_3",
     "points": [
      0,
      5
     ],
     "suites": [
      {
       "cases": [
        {
         "code": ">>> # Make sure to return the number of face cards, not a proportion\n>>> num_face = deck_simulation_and_statistic(13, deck_model_probabilities)\n>>> num_face % 1 == 0\nTrue",
         "hidden": false,
         "locked": false
        },
        {
         "code": ">>> # The statistic should be between 0 and 13 face cards for\n>>> # a sample size of 13\n>>> num_face = deck_simulation_and_statistic(13, deck_model_probabilities)\n>>> 0 <= num_face <= 13\nTrue",
         "hidden": false,
         "locked": false
        }
       ],
       "scored": true,
       "setup": "",
       "teardown": "",
       "type": "doctest"
      }
     ]
    },
    "q4_4": {
     "name": "q4_4",
     "points": [
      2,
      3
     ],
     "suites": [
      {
       "cases": [
        {
         "code": ">>> # There should be exactly as many elements in deck_statistics\n>>> # as the number 'repetitions'\n>>> len(deck_statistics) == repetitions\nTrue",
         "hidden": false,
         "locked": false
        },
        {
         "code": ">>> # Each element of deck_statistics should be between 0\n>>> # and 13 inclusive\n>>> all([0 <= k <= 13 for k in deck_statistics])\nTrue",
         "hidden": false,
         "locked": false
        }
       ],
       "scored": true,
       "setup": "",
       "teardown": "",
       "type": "doctest"
      }
     ]
    }
   }
  }
 },
 "nbformat": 4,
 "nbformat_minor": 5
<<<<<<< HEAD
}
=======
}
>>>>>>> 219b954 (first commit)
