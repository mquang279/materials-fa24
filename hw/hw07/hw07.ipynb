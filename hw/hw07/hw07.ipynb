{
 "cells": [
  {
   "cell_type": "code",
<<<<<<< HEAD
   "execution_count": null,
=======
   "execution_count": 1,
>>>>>>> 219b954 (first commit)
   "id": "8cd6f805",
   "metadata": {
    "deletable": false,
    "editable": false
   },
   "outputs": [],
   "source": [
    "# Initialize Otter\n",
    "import otter\n",
    "grader = otter.Notebook(\"hw07.ipynb\")"
   ]
  },
  {
   "cell_type": "markdown",
   "id": "534d1e3d",
   "metadata": {},
   "source": [
    "<img src=\"data8logo.png\" alt=\"Data 8 Logo\" style=\"width: 15%; float: right; padding: 1%; margin-right: 2%;\"/>\n",
    "\n",
    "# Homework 7: Testing Hypotheses\n",
    "\n",
    "Please complete this notebook by filling in the cells provided. Before you begin, execute the previous cell to load the provided tests.\n",
    "\n",
    "**Helpful Resource:**\n",
    "\n",
    "- [Python Reference](http://data8.org/fa24/reference/): Cheat sheet of helpful array & table methods used in Data 8!\n",
    "\n",
    "**Recommended Readings**: \n",
    "\n",
    "* [Sampling Methods Guide](https://drive.google.com/file/d/1UtNdxDdI5XphWvwgTjODiAUFwArpZtoK/view)\n",
    "* [Testing Hypotheses](https://www.inferentialthinking.com/chapters/11/Testing_Hypotheses.html)\n",
    "* [A/B Testing](https://inferentialthinking.com/chapters/12/1/AB_Testing.html)"
   ]
  },
  {
   "attachments": {},
   "cell_type": "markdown",
   "id": "0e09a761",
   "metadata": {},
   "source": [
    "Please complete this notebook by filling in the cells provided. **Before you begin, execute the cell below to setup the notebook by importing some helpful libraries.** Each time you start your server, you will need to execute this cell again.\n",
    "\n",
    "For all problems that you must write explanations and sentences for, you **must** provide your answer in the designated space. Moreover, throughout this homework and all future ones, **please be sure to not re-assign variables throughout the notebook!** For example, if you use `max_temperature` in your answer to one question, do not reassign it later on. Otherwise, you will fail tests that you thought you were passing previously!\n",
    "\n",
    "**Deadline:**\n",
    "\n",
    "This assignment is **due Wednesday, 10/16 at 5:00pm PT**. Submissions after this time will be accepted for 24 hours and will incur a 20% penalty. Any submissions later than this 24 hour period will not be accepted unless an extension has been granted as per the [policies](http://data8.org/fa24/policies/) page. Turn it in by Tuesday, 10/15 at 5:00pm PT for 5 extra credit points.\n",
    "\n",
    "<span style=\"color:red\">**Note: This homework has hidden tests on it. That means even though tests may say 100% passed, it doesn't mean your final grade will be 100%. We will be running more tests for correctness once everyone turns in the homework.**</span>\n",
    "\n",
    "Directly sharing answers is not okay, but discussing problems with the course staff or with other students is encouraged. Refer to the [policies](http://data8.org/fa24/policies/#learning-cooperatively) page to learn more about how to learn cooperatively.\n",
    "\n",
    "You should start early so that you have time to get help if you're stuck. Office hours are held Monday through Friday in [Warren Hall](https://www.berkeley.edu/map?warren) 101B. The office hours schedule appears [here](http://data8.org/fa24/schedule/)."
   ]
  },
  {
   "cell_type": "markdown",
   "id": "708fc18a",
   "metadata": {},
   "source": [
    "---\n",
    "\n",
    "The point breakdown for this assignment is given in the table below:\n",
    "| Category | Points |\n",
    "| --- | --- |\n",
    "| Autograder (Coding questions) | 80 |\n",
    "| Written (Q1.2, Q1.3, Q1.7, Q2.1, Q2.5) | 20 |\n",
    "| **Total** | 100 |"
   ]
  },
  {
   "cell_type": "code",
<<<<<<< HEAD
   "execution_count": null,
=======
   "execution_count": 2,
>>>>>>> 219b954 (first commit)
   "id": "9a661faf",
   "metadata": {},
   "outputs": [],
   "source": [
    "# Run this cell to set up the notebook, but please don't change it.\n",
    "\n",
    "# These lines import the Numpy and Datascience modules.\n",
    "import numpy as np\n",
    "from datascience import *\n",
    "\n",
    "# These lines do some fancy plotting magic.\n",
    "import matplotlib\n",
    "%matplotlib inline\n",
    "import matplotlib.pyplot as plt\n",
    "plt.style.use('fivethirtyeight')\n",
    "import warnings\n",
    "warnings.simplefilter('ignore', FutureWarning)"
   ]
  },
  {
   "cell_type": "markdown",
   "id": "7bb7d0fc",
   "metadata": {},
   "source": [
    "<hr style=\"border: 5px solid #003262;\" />\n",
    "<hr style=\"border: 1px solid #fdb515;\" />\n",
    "\n",
    "## 1. Vaccinations Across The Nation\n",
    "\n",
    "A vaccination clinic has two types of vaccines against a disease. Each person who comes in to be vaccinated gets either Vaccine 1 or Vaccine 2. One week, everyone who came in on Monday, Wednesday, and Friday was given Vaccine 1. Everyone who came in on Tuesday and Thursday was given Vaccine 2. The clinic is closed on weekends.\n",
    "\n",
    "Doctor DeNero at the clinic said, \"Oh wow, the distribution of vaccines is like tossing a coin that lands heads with probability $\\frac{3}{5}$. If the coin lands on heads, you get Vaccine 1 and if the coin lands on tails, you get Vaccine 2.\"\n",
    "\n",
    "But Doctor Sahai said, \"No, it's not. We're not doing anything like tossing a (biased) coin.\"\n",
    "\n",
    "That week, the clinic gave Vaccine 1 to 211 people and Vaccine 2 to 107 people. Conduct a test of hypotheses to see which doctor's position is better supported by the data."
   ]
  },
  {
   "cell_type": "markdown",
   "id": "f9974532",
   "metadata": {},
   "source": [
    "---\n",
    "\n",
    "**Question 1.1.** Given the information above, what was the sample size for the data, and what was the percentage of people who got **Vaccine 1?** **(4 points)**\n",
    "\n",
    "*Note*: Your percent should be a number between 0 and 100, not a proportion between 0 and 1.\n"
   ]
  },
  {
   "cell_type": "code",
<<<<<<< HEAD
   "execution_count": null,
=======
   "execution_count": 3,
>>>>>>> 219b954 (first commit)
   "id": "6a8fd4d4",
   "metadata": {
    "tags": []
   },
<<<<<<< HEAD
   "outputs": [],
   "source": [
    "sample_size = ...\n",
    "percent_V1 = ...\n",
=======
   "outputs": [
    {
     "name": "stdout",
     "output_type": "stream",
     "text": [
      "Sample Size: 318\n",
      "Vaccine 1 Percent: 66.35220125786164\n"
     ]
    }
   ],
   "source": [
    "sample_size = 211 + 107\n",
    "percent_V1 = 211 / sample_size * 100\n",
>>>>>>> 219b954 (first commit)
    "\n",
    "print(f\"Sample Size: {sample_size}\")\n",
    "print(f\"Vaccine 1 Percent: {percent_V1}\")"
   ]
  },
  {
   "cell_type": "code",
<<<<<<< HEAD
   "execution_count": null,
=======
   "execution_count": 4,
>>>>>>> 219b954 (first commit)
   "id": "f22c02bc",
   "metadata": {
    "deletable": false,
    "editable": false
   },
<<<<<<< HEAD
   "outputs": [],
=======
   "outputs": [
    {
     "data": {
      "text/html": [
       "<p><strong><pre style='display: inline;'>q1_1</pre></strong> passed! 🎉</p>"
      ],
      "text/plain": [
       "q1_1 results: All test cases passed!"
      ]
     },
     "execution_count": 4,
     "metadata": {},
     "output_type": "execute_result"
    }
   ],
>>>>>>> 219b954 (first commit)
   "source": [
    "grader.check(\"q1_1\")"
   ]
  },
  {
   "cell_type": "markdown",
   "id": "cbcdbf3f",
   "metadata": {},
   "source": [
    "<!-- BEGIN QUESTION -->\n",
    "\n",
    "---\n",
    "\n",
    "**Question 1.2.** State the null hypothesis. It should reflect the position of either Dr. DeNero or Dr. Sahai. **(4 points)**\n",
    "\n",
    "*Note:* Check out [11.3](https://inferentialthinking.com/chapters/11/3/Decisions_and_Uncertainty.html#step-1-the-hypotheses) for a refresher on hypotheses.\n"
   ]
  },
  {
   "cell_type": "markdown",
   "id": "dd2aedf3",
   "metadata": {},
   "source": [
<<<<<<< HEAD
    "_Type your answer here, replacing this text._"
=======
    "The distribution of vaccines is like tossing a coin that lands heads with probability $\\frac{3}{5}$"
>>>>>>> 219b954 (first commit)
   ]
  },
  {
   "cell_type": "markdown",
   "id": "3659c8b8",
   "metadata": {},
   "source": [
    "<!-- END QUESTION -->\n",
    "\n",
    "<!-- BEGIN QUESTION -->\n",
    "\n",
    "---\n",
    "\n",
    "**Question 1.3.** State the alternative hypothesis. It should reflect the position of the doctor you did not choose to represent in Question 1.2. **(4 points)**\n",
    "\n",
    "*Note:* Check out [11.3](https://inferentialthinking.com/chapters/11/3/Decisions_and_Uncertainty.html#step-1-the-hypotheses) for a refresher on hypotheses.\n"
   ]
  },
  {
   "cell_type": "markdown",
   "id": "68b6a28d",
   "metadata": {},
   "source": [
<<<<<<< HEAD
    "_Type your answer here, replacing this text._"
=======
    "The distribution of vaccines is not like tossing a coin that lands heads with probability $\\frac{3}{5}$"
>>>>>>> 219b954 (first commit)
   ]
  },
  {
   "cell_type": "markdown",
   "id": "34788999",
   "metadata": {},
   "source": [
    "<!-- END QUESTION -->\n",
    "\n",
    "---\n",
    "\n",
    "**Question 1.4.** One of the test statistics below is appropriate for testing these hypotheses. Assign the variable `valid_test_stat` to the number corresponding to the correct test statistic. **(4 points)**\n",
    "\n",
    "_Hint:_ Recall that large values of the test statistic should favor the alternative hypothesis.\n",
    "\n",
    "1. percent of heads - 60\n",
    "2. |percent of heads - 60|\n",
    "3. percent of heads - 50\n",
    "4. |percent of heads - 50|\n"
   ]
  },
  {
   "cell_type": "code",
<<<<<<< HEAD
   "execution_count": null,
=======
   "execution_count": 5,
>>>>>>> 219b954 (first commit)
   "id": "9f3dac3d",
   "metadata": {
    "tags": []
   },
<<<<<<< HEAD
   "outputs": [],
   "source": [
    "valid_test_stat = ...\n",
=======
   "outputs": [
    {
     "data": {
      "text/plain": [
       "2"
      ]
     },
     "execution_count": 5,
     "metadata": {},
     "output_type": "execute_result"
    }
   ],
   "source": [
    "valid_test_stat = 2\n",
>>>>>>> 219b954 (first commit)
    "valid_test_stat"
   ]
  },
  {
   "cell_type": "code",
<<<<<<< HEAD
   "execution_count": null,
=======
   "execution_count": 6,
>>>>>>> 219b954 (first commit)
   "id": "4db6c8c5",
   "metadata": {
    "deletable": false,
    "editable": false
   },
<<<<<<< HEAD
   "outputs": [],
=======
   "outputs": [
    {
     "data": {
      "text/html": [
       "<p><strong><pre style='display: inline;'>q1_4</pre></strong> passed! 🎉</p>"
      ],
      "text/plain": [
       "q1_4 results: All test cases passed!"
      ]
     },
     "execution_count": 6,
     "metadata": {},
     "output_type": "execute_result"
    }
   ],
>>>>>>> 219b954 (first commit)
   "source": [
    "grader.check(\"q1_4\")"
   ]
  },
  {
   "cell_type": "markdown",
   "id": "61410113",
   "metadata": {},
   "source": [
    "---\n",
    "\n",
    "**Question 1.5.** Using your answer from Questions 1.1 and 1.4, find the observed value of the test statistic and assign it to the variable `observed_statistic`. Recall that the observed statistic is the test statistic value that was observed in the real life data. **(4 points)**\n"
   ]
  },
  {
   "cell_type": "code",
<<<<<<< HEAD
   "execution_count": null,
=======
   "execution_count": 7,
>>>>>>> 219b954 (first commit)
   "id": "b4c12ca4",
   "metadata": {
    "tags": []
   },
<<<<<<< HEAD
   "outputs": [],
   "source": [
    "observed_statistic = ...\n",
=======
   "outputs": [
    {
     "data": {
      "text/plain": [
       "0.6635220125786163"
      ]
     },
     "execution_count": 7,
     "metadata": {},
     "output_type": "execute_result"
    }
   ],
   "source": [
    "observed_statistic = 211 / sample_size\n",
>>>>>>> 219b954 (first commit)
    "observed_statistic"
   ]
  },
  {
   "cell_type": "code",
<<<<<<< HEAD
   "execution_count": null,
=======
   "execution_count": 8,
>>>>>>> 219b954 (first commit)
   "id": "c4bda55b",
   "metadata": {
    "deletable": false,
    "editable": false
   },
<<<<<<< HEAD
   "outputs": [],
=======
   "outputs": [
    {
     "data": {
      "text/html": [
       "<p><strong><pre style='display: inline;'>q1_5</pre></strong> passed! 🌈</p>"
      ],
      "text/plain": [
       "q1_5 results: All test cases passed!"
      ]
     },
     "execution_count": 8,
     "metadata": {},
     "output_type": "execute_result"
    }
   ],
>>>>>>> 219b954 (first commit)
   "source": [
    "grader.check(\"q1_5\")"
   ]
  },
  {
   "cell_type": "markdown",
   "id": "2af17a84",
   "metadata": {},
   "source": [
    "---\n",
    "\n",
    "**Question 1.6.** In order to perform this hypothesis test, you must simulate the test statistic. From the four options below, pick the assumption that is needed for this simulation. Assign `assumption_needed` to an integer corresponding to the assumption. **(4 points)**\n",
    "\n",
    "1. The statistic must be simulated under the null hypothesis.\n",
    "2. The statistic must be simulated under the alternative hypothesis.\n",
    "3. The statistic must be simulated under both hypotheses.\n",
    "4. No assumptions are needed. We can just simulate the statistic.\n"
   ]
  },
  {
   "cell_type": "code",
<<<<<<< HEAD
   "execution_count": null,
=======
   "execution_count": 9,
>>>>>>> 219b954 (first commit)
   "id": "aaa4247c",
   "metadata": {
    "tags": []
   },
<<<<<<< HEAD
   "outputs": [],
   "source": [
    "assumption_needed = ...\n",
=======
   "outputs": [
    {
     "data": {
      "text/plain": [
       "1"
      ]
     },
     "execution_count": 9,
     "metadata": {},
     "output_type": "execute_result"
    }
   ],
   "source": [
    "assumption_needed = 1\n",
>>>>>>> 219b954 (first commit)
    "assumption_needed"
   ]
  },
  {
   "cell_type": "code",
<<<<<<< HEAD
   "execution_count": null,
=======
   "execution_count": 10,
>>>>>>> 219b954 (first commit)
   "id": "a1979e80",
   "metadata": {
    "deletable": false,
    "editable": false
   },
<<<<<<< HEAD
   "outputs": [],
=======
   "outputs": [
    {
     "data": {
      "text/html": [
       "<p><strong><pre style='display: inline;'>q1_6</pre></strong> passed! 🎉</p>"
      ],
      "text/plain": [
       "q1_6 results: All test cases passed!"
      ]
     },
     "execution_count": 10,
     "metadata": {},
     "output_type": "execute_result"
    }
   ],
>>>>>>> 219b954 (first commit)
   "source": [
    "grader.check(\"q1_6\")"
   ]
  },
  {
   "cell_type": "markdown",
   "id": "d724c184",
   "metadata": {},
   "source": [
    "<!-- BEGIN QUESTION -->\n",
    "\n",
    "---\n",
    "\n",
    "**Question 1.7.** Simulate 10,000 values of the test statistic under the assumption you picked in Question 1.6. **(4 points)** \n",
    "\n",
    "As usual, start by defining a function that simulates one value of the statistic. Your function should use `sample_proportions`. (You may find a variable defined in Question 1.1 useful here!) Then, write a `for` loop to simulate multiple values and collect them in the array `simulated_statistics`.\n",
    "\n",
    "Use as many lines of code as you need. We have included the code that visualizes the distribution of the simulated values. The red dot represents the observed statistic you found in Question 1.5.\n"
   ]
  },
  {
   "cell_type": "code",
<<<<<<< HEAD
   "execution_count": null,
=======
   "execution_count": 11,
>>>>>>> 219b954 (first commit)
   "id": "3203ea47",
   "metadata": {
    "tags": []
   },
   "outputs": [],
   "source": [
    "def one_simulated_statistic():\n",
<<<<<<< HEAD
    "    ..."
=======
    "    proportions = [3/5, 2/5]\n",
    "    return sample_proportions(sample_size, proportions)[0]"
>>>>>>> 219b954 (first commit)
   ]
  },
  {
   "cell_type": "code",
<<<<<<< HEAD
   "execution_count": null,
=======
   "execution_count": 12,
>>>>>>> 219b954 (first commit)
   "id": "518fadb8",
   "metadata": {
    "tags": []
   },
<<<<<<< HEAD
   "outputs": [],
=======
   "outputs": [
    {
     "data": {
      "text/plain": [
       "0.61006289308176098"
      ]
     },
     "execution_count": 12,
     "metadata": {},
     "output_type": "execute_result"
    }
   ],
>>>>>>> 219b954 (first commit)
   "source": [
    "# Run the this cell a few times to see how the simulated statistic changes\n",
    "one_simulated_statistic()"
   ]
  },
  {
   "cell_type": "code",
<<<<<<< HEAD
   "execution_count": null,
=======
   "execution_count": 13,
>>>>>>> 219b954 (first commit)
   "id": "6e572943",
   "metadata": {
    "tags": []
   },
   "outputs": [],
   "source": [
    "num_simulations = 10000\n",
    "\n",
<<<<<<< HEAD
    "simulated_statistics = ...\n",
    "for ... in ...:\n",
    "    ..."
=======
    "simulated_statistics = np.array([])\n",
    "for _ in range(0, num_simulations):\n",
    "    simulated_statistics = np.append(simulated_statistics, one_simulated_statistic())"
>>>>>>> 219b954 (first commit)
   ]
  },
  {
   "cell_type": "code",
<<<<<<< HEAD
   "execution_count": null,
   "id": "e5519b96",
   "metadata": {},
   "outputs": [],
=======
   "execution_count": 14,
   "id": "e5519b96",
   "metadata": {},
   "outputs": [
    {
     "data": {
      "image/png": "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",
      "text/plain": [
       "<Figure size 600x400 with 1 Axes>"
      ]
     },
     "metadata": {},
     "output_type": "display_data"
    }
   ],
>>>>>>> 219b954 (first commit)
   "source": [
    "# Run this cell to produce a histogram of the simulated statistics\n",
    "\n",
    "Table().with_columns('Simulated Statistic', simulated_statistics).hist()\n",
    "plt.scatter(observed_statistic, -0.002, color='red', s=40);"
   ]
  },
  {
   "cell_type": "markdown",
   "id": "9f604968",
   "metadata": {},
   "source": [
    "<!-- END QUESTION -->\n",
    "\n",
    "---\n",
    "\n",
    "**Question 1.8.** Using `simulated_statistics`, `observed_statistic`, and `num_simulations`, find the empirical p-value based on the simulation. **(4 points)**\n",
    "\n",
    "_Hint:_ Reading [11.3.6](https://inferentialthinking.com/chapters/11/3/Decisions_and_Uncertainty.html#the-meaning-of-consistent) might be helpful for this question.\n"
   ]
  },
  {
   "cell_type": "code",
<<<<<<< HEAD
   "execution_count": null,
=======
   "execution_count": 15,
>>>>>>> 219b954 (first commit)
   "id": "bf4bfeed",
   "metadata": {
    "tags": []
   },
<<<<<<< HEAD
   "outputs": [],
   "source": [
    "p_value = ...\n",
=======
   "outputs": [
    {
     "data": {
      "text/plain": [
       "0.0117"
      ]
     },
     "execution_count": 15,
     "metadata": {},
     "output_type": "execute_result"
    }
   ],
   "source": [
    "p_value = np.count_nonzero(simulated_statistics >= observed_statistic) / num_simulations\n",
>>>>>>> 219b954 (first commit)
    "p_value"
   ]
  },
  {
   "cell_type": "code",
<<<<<<< HEAD
   "execution_count": null,
=======
   "execution_count": 16,
>>>>>>> 219b954 (first commit)
   "id": "831d9e18",
   "metadata": {
    "deletable": false,
    "editable": false
   },
<<<<<<< HEAD
   "outputs": [],
=======
   "outputs": [
    {
     "data": {
      "text/html": [
       "<p><strong><pre style='display: inline;'>q1_8</pre></strong> passed! 🚀</p>"
      ],
      "text/plain": [
       "q1_8 results: All test cases passed!"
      ]
     },
     "execution_count": 16,
     "metadata": {},
     "output_type": "execute_result"
    }
   ],
>>>>>>> 219b954 (first commit)
   "source": [
    "grader.check(\"q1_8\")"
   ]
  },
  {
   "cell_type": "markdown",
   "id": "e7390a46",
   "metadata": {},
   "source": [
    "---\n",
    "\n",
    "**Question 1.9.** Assign `correct_doctor` to the number corresponding to the correct statement below. Use the 5% cutoff for the p-value. **(4 points)**\n",
    "\n",
    "1. The data support Dr. DeNero's position more than they support Dr. Sahai's.\n",
    "2. The data support Dr. Sahai's position more than they support Dr. DeNero's.\n",
    "\n",
    "As a reminder, here are the two claims made by Dr. DeNero and Dr. Sahai:\n",
    "> **Doctor DeNero:** \"Oh wow, it's just like tossing a coin that lands heads with chance $\\frac{3}{5}$. Heads you get Vaccine 1 and Tails you get Vaccine 2.\"\n",
    "\n",
    ">**Doctor Sahai:** \"No, it's not. We're not doing anything like tossing a coin.\"\n"
   ]
  },
  {
   "cell_type": "code",
<<<<<<< HEAD
   "execution_count": null,
=======
   "execution_count": 17,
>>>>>>> 219b954 (first commit)
   "id": "2b21059e",
   "metadata": {
    "tags": []
   },
<<<<<<< HEAD
   "outputs": [],
   "source": [
    "correct_doctor = ...\n",
=======
   "outputs": [
    {
     "data": {
      "text/plain": [
       "2"
      ]
     },
     "execution_count": 17,
     "metadata": {},
     "output_type": "execute_result"
    }
   ],
   "source": [
    "correct_doctor = 2\n",
>>>>>>> 219b954 (first commit)
    "correct_doctor"
   ]
  },
  {
   "cell_type": "code",
<<<<<<< HEAD
   "execution_count": null,
=======
   "execution_count": 18,
>>>>>>> 219b954 (first commit)
   "id": "c3baee78",
   "metadata": {
    "deletable": false,
    "editable": false
   },
<<<<<<< HEAD
   "outputs": [],
=======
   "outputs": [
    {
     "data": {
      "text/html": [
       "<p><strong><pre style='display: inline;'>q1_9</pre></strong> passed! 💯</p>"
      ],
      "text/plain": [
       "q1_9 results: All test cases passed!"
      ]
     },
     "execution_count": 18,
     "metadata": {},
     "output_type": "execute_result"
    }
   ],
>>>>>>> 219b954 (first commit)
   "source": [
    "grader.check(\"q1_9\")"
   ]
  },
  {
   "cell_type": "markdown",
   "id": "087fe7b1",
   "metadata": {},
   "source": [
    "<hr style=\"border: 5px solid #003262;\" />\n",
    "<hr style=\"border: 1px solid #fdb515;\" />\n",
    "\n",
    "## 2. Using TVD as a Test Statistic\n",
    "\n",
    "Before beginning this section, please read [this section](https://inferentialthinking.com/chapters/11/2/Multiple_Categories.html#a-new-statistic-the-distance-between-two-distributions) of the textbook on TVD!"
   ]
  },
  {
   "cell_type": "markdown",
   "id": "97a60a79",
   "metadata": {},
   "source": [
    "**Total variation distance (TVD)** is a special type of test statistic that we use when we want to compare two distributions of *categorical data*. It is often used when we observe that a set of observed proportions/probabilities is different than what we expect under the null model. \n",
    "\n",
    "Consider a six-sided die that we roll 6,000 times. If the die is fair, we would expect that each face comes up $\\frac{1}{6}$ of the time. By random chance, a fair die won't always result in equal proportions (that is, we won't get exactly 1,000 of each face). However, if we suspect that the die might be unfair based on the data, we can conduct a hypothesis test using TVD to compare the expected [$\\frac{1}{6}$, $\\frac{1}{6}$, $\\frac{1}{6}$, $\\frac{1}{6}$, $\\frac{1}{6}$, $\\frac{1}{6}$] distribution to what is actually observed.\n",
    "\n",
    "In this part of the homework, we'll look at how we can use TVD to determine the effect that different factors have on happiness. \n",
    "\n",
    "We will be working with data from the [Gallup World Poll](https://worldhappiness.report/ed/2023/world-happiness-trust-and-social-connections-in-times-of-crisis/#ranking-of-happiness-2020-2022) that is presented in the World Happiness Report, a survey of the state of global happiness. The survey ranked 137 countries by overall happiness and estimated the influence that economic production, social support, life expectancy, freedom, absence of corruption, and generosity had on population happiness. The study has been repeated for several years, but we'll be looking at data from the 2023 survey.\n",
    "\n",
    "Run the cell below to load in the `happiness_scores` table."
   ]
  },
  {
   "cell_type": "code",
<<<<<<< HEAD
   "execution_count": null,
   "id": "b09a15bf",
   "metadata": {},
   "outputs": [],
=======
   "execution_count": 19,
   "id": "b09a15bf",
   "metadata": {},
   "outputs": [
    {
     "data": {
      "text/html": [
       "<table border=\"1\" class=\"dataframe\">\n",
       "    <thead>\n",
       "        <tr>\n",
       "            <th>Country</th> <th>Happiness Rank</th> <th>Happiness Score</th> <th>Standard error of happiness score</th> <th>Lower Confidence Interval</th> <th>Upper Confidence Interval</th> <th>Economy (Log GDP per capita)</th> <th>Family</th> <th>Health (life expectancy)</th> <th>Freedom</th> <th>Generosity</th> <th>Trust (Government Corruption)</th>\n",
       "        </tr>\n",
       "    </thead>\n",
       "    <tbody>\n",
       "        <tr>\n",
       "            <td>Finland    </td> <td>1             </td> <td>7.804          </td> <td>0.036                            </td> <td>7.875                    </td> <td>7.733                    </td> <td>1.888                       </td> <td>1.585 </td> <td>0.535                   </td> <td>0.772  </td> <td>0.126     </td> <td>0.535                        </td>\n",
       "        </tr>\n",
       "        <tr>\n",
       "            <td>Denmark    </td> <td>2             </td> <td>7.586          </td> <td>0.041                            </td> <td>7.667                    </td> <td>7.506                    </td> <td>1.949                       </td> <td>1.548 </td> <td>0.537                   </td> <td>0.734  </td> <td>0.208     </td> <td>0.525                        </td>\n",
       "        </tr>\n",
       "        <tr>\n",
       "            <td>Iceland    </td> <td>3             </td> <td>7.53           </td> <td>0.049                            </td> <td>7.625                    </td> <td>7.434                    </td> <td>1.926                       </td> <td>1.62  </td> <td>0.559                   </td> <td>0.738  </td> <td>0.25      </td> <td>0.187                        </td>\n",
       "        </tr>\n",
       "        <tr>\n",
       "            <td>Israel     </td> <td>4             </td> <td>7.473          </td> <td>0.032                            </td> <td>7.535                    </td> <td>7.411                    </td> <td>1.833                       </td> <td>1.521 </td> <td>0.577                   </td> <td>0.569  </td> <td>0.124     </td> <td>0.158                        </td>\n",
       "        </tr>\n",
       "        <tr>\n",
       "            <td>Netherlands</td> <td>5             </td> <td>7.403          </td> <td>0.029                            </td> <td>7.46                     </td> <td>7.346                    </td> <td>1.942                       </td> <td>1.488 </td> <td>0.545                   </td> <td>0.672  </td> <td>0.251     </td> <td>0.394                        </td>\n",
       "        </tr>\n",
       "    </tbody>\n",
       "</table>\n",
       "<p>... (132 rows omitted)</p>"
      ],
      "text/plain": [
       "<IPython.core.display.HTML object>"
      ]
     },
     "metadata": {},
     "output_type": "display_data"
    }
   ],
>>>>>>> 219b954 (first commit)
   "source": [
    "happiness_scores = Table.read_table(\"happiness_scores.csv\").drop(12, 13, 14).take(np.arange(137))\n",
    "happiness_scores.show(5)"
   ]
  },
  {
   "cell_type": "markdown",
   "id": "b2da3db2",
   "metadata": {},
   "source": [
    "Participants in the study were asked to evaluate their life satisfaction from a scale of 0 (worst possible life) to 10 (best possible life). The responses for each country were averaged to create the `Happiness Score`.\n",
    "\n",
    "The columns `Economy (Log GDP per Capita)`, `Family`, `Health (Life Expectancy)`, `Freedom`, `Generosity`, and `Trust (Government Corruption)` estimate the extent to which each factor influences happiness, both for better or for worse. The happiness score is the sum of these factors; the larger a factor is, the more it contributes to overall happiness. [In other words, if you add up all the factors (in addition to a \"Difference from Dystopia\" value we excluded in the dataset), you get the happiness score.]\n",
    "\n",
    "Let's look at the different factors that affect happiness in the United States. Run the cell below to view the row in `us_happiness` that contains data for the United States."
   ]
  },
  {
   "cell_type": "code",
<<<<<<< HEAD
   "execution_count": null,
   "id": "11d8db22",
   "metadata": {},
   "outputs": [],
=======
   "execution_count": 20,
   "id": "11d8db22",
   "metadata": {},
   "outputs": [
    {
     "data": {
      "text/html": [
       "<table border=\"1\" class=\"dataframe\">\n",
       "    <thead>\n",
       "        <tr>\n",
       "            <th>Country</th> <th>Happiness Rank</th> <th>Happiness Score</th> <th>Standard error of happiness score</th> <th>Lower Confidence Interval</th> <th>Upper Confidence Interval</th> <th>Economy (Log GDP per capita)</th> <th>Family</th> <th>Health (life expectancy)</th> <th>Freedom</th> <th>Generosity</th> <th>Trust (Government Corruption)</th>\n",
       "        </tr>\n",
       "    </thead>\n",
       "    <tbody>\n",
       "        <tr>\n",
       "            <td>United States</td> <td>15            </td> <td>6.894          </td> <td>0.047                            </td> <td>6.986                    </td> <td>6.802                    </td> <td>1.98                        </td> <td>1.46  </td> <td>0.39                    </td> <td>0.557  </td> <td>0.21      </td> <td>0.172                        </td>\n",
       "        </tr>\n",
       "    </tbody>\n",
       "</table>"
      ],
      "text/plain": [
       "Country       | Happiness Rank | Happiness Score | Standard error of happiness score | Lower Confidence Interval | Upper Confidence Interval | Economy (Log GDP per capita) | Family | Health (life expectancy) | Freedom | Generosity | Trust (Government Corruption)\n",
       "United States | 15             | 6.894           | 0.047                             | 6.986                     | 6.802                     | 1.98                         | 1.46   | 0.39                     | 0.557   | 0.21       | 0.172"
      ]
     },
     "execution_count": 20,
     "metadata": {},
     "output_type": "execute_result"
    }
   ],
>>>>>>> 219b954 (first commit)
   "source": [
    "us_happiness = happiness_scores.where(\"Country\", \"United States\")\n",
    "us_happiness"
   ]
  },
  {
   "cell_type": "markdown",
   "id": "8c451ba1",
   "metadata": {},
   "source": [
    "**To compare the different factors, we'll look at the proportion of the happiness score that is attributed to each variable. \n",
    "You can find these proportions in the table `us_happiness_factors` after running the cell below.**\n",
    "\n",
    "*Note:* The factors shown in `us_happiness` don't add up exactly to the happiness score, so we adjusted the proportions to  only account for the data we have access to. The proportions were found by dividing each Happiness Factor value by the sum of all Happiness Factor values in `us_happiness`."
   ]
  },
  {
   "cell_type": "code",
<<<<<<< HEAD
   "execution_count": null,
   "id": "b31ab779",
   "metadata": {},
   "outputs": [],
=======
   "execution_count": 21,
   "id": "b31ab779",
   "metadata": {},
   "outputs": [
    {
     "data": {
      "text/html": [
       "<table border=\"1\" class=\"dataframe\">\n",
       "    <thead>\n",
       "        <tr>\n",
       "            <th>Happiness Factor</th> <th>Proportion of Happiness Score</th>\n",
       "        </tr>\n",
       "    </thead>\n",
       "    <tbody>\n",
       "        <tr>\n",
       "            <td>Economy (GDP per Capita)     </td> <td>0.41521                      </td>\n",
       "        </tr>\n",
       "        <tr>\n",
       "            <td>Family                       </td> <td>0.306036                     </td>\n",
       "        </tr>\n",
       "        <tr>\n",
       "            <td>Health (Life Expectancy)     </td> <td>0.0818086                    </td>\n",
       "        </tr>\n",
       "        <tr>\n",
       "            <td>Freedom                      </td> <td>0.116865                     </td>\n",
       "        </tr>\n",
       "        <tr>\n",
       "            <td>Trust (Government Corruption)</td> <td>0.0361179                    </td>\n",
       "        </tr>\n",
       "        <tr>\n",
       "            <td>Generosity                   </td> <td>0.0439626                    </td>\n",
       "        </tr>\n",
       "    </tbody>\n",
       "</table>"
      ],
      "text/plain": [
       "Happiness Factor              | Proportion of Happiness Score\n",
       "Economy (GDP per Capita)      | 0.41521\n",
       "Family                        | 0.306036\n",
       "Health (Life Expectancy)      | 0.0818086\n",
       "Freedom                       | 0.116865\n",
       "Trust (Government Corruption) | 0.0361179\n",
       "Generosity                    | 0.0439626"
      ]
     },
     "execution_count": 21,
     "metadata": {},
     "output_type": "execute_result"
    }
   ],
>>>>>>> 219b954 (first commit)
   "source": [
    "us_happiness_factors = Table().read_table(\"us_happiness_factors.csv\")\n",
    "us_happiness_factors"
   ]
  },
  {
   "cell_type": "markdown",
   "id": "fc7dd5c1",
   "metadata": {},
   "source": [
    "<!-- BEGIN QUESTION -->\n",
    "\n",
    "---\n",
    "\n",
    "**Question 2.1.** Suppose we want to test whether or not each factor contributes the same amount to the overall Happiness Score. Define the null hypothesis, alternative hypothesis, and test statistic in the cell below. **(4 points)**\n",
    "\n",
    "*Note:* Please format your answer as follows:\n",
    "- Null Hypothesis: ...  \n",
    "- Alternative Hypothesis: ...  \n",
    "- Test Statistic: ...  \n"
   ]
  },
  {
   "cell_type": "markdown",
   "id": "fb8c71d4",
   "metadata": {},
   "source": [
<<<<<<< HEAD
    "_Type your answer here, replacing this text._"
=======
    "- Null Hypothesis: Each factor contributes the same amount to the overall Happiness Score.\n",
    "- Alternative Hypothesis: Each factor contributes different amount to the overall Happiness Score.\n",
    "- Test Statistic: Sum of (Each Proportion of Happiness Score - 1/6) / 2"
>>>>>>> 219b954 (first commit)
   ]
  },
  {
   "cell_type": "markdown",
   "id": "131b97ac",
   "metadata": {},
   "source": [
    "<!-- END QUESTION -->\n",
    "\n",
    "---\n",
    "\n",
    "**Question 2.2.** Write a function `calculate_tvd` that takes in the observed distribution (`obs_dist`) and expected distribution under the null hypothesis (`null_dist`) and calculates the total variation distance. Use this function to set `observed_tvd` to be equal to the observed test statistic. **(4 points)**\n"
   ]
  },
  {
   "cell_type": "code",
<<<<<<< HEAD
   "execution_count": null,
=======
   "execution_count": 22,
>>>>>>> 219b954 (first commit)
   "id": "dcce1443",
   "metadata": {
    "tags": []
   },
<<<<<<< HEAD
   "outputs": [],
=======
   "outputs": [
    {
     "data": {
      "text/plain": [
       "0.38791256366666665"
      ]
     },
     "execution_count": 22,
     "metadata": {},
     "output_type": "execute_result"
    }
   ],
>>>>>>> 219b954 (first commit)
   "source": [
    "null_distribution = make_array(1/6, 1/6, 1/6, 1/6, 1/6, 1/6)\n",
    "\n",
    "def calculate_tvd(obs_dist, null_dist):\n",
<<<<<<< HEAD
    "    ...\n",
    "    \n",
    "observed_tvd = ...\n",
=======
    "    return np.sum(np.abs(obs_dist - null_dist)) / 2\n",
    "    \n",
    "observed_tvd = calculate_tvd(us_happiness_factors.column('Proportion of Happiness Score'), null_distribution)\n",
>>>>>>> 219b954 (first commit)
    "observed_tvd"
   ]
  },
  {
   "cell_type": "code",
<<<<<<< HEAD
   "execution_count": null,
=======
   "execution_count": 23,
>>>>>>> 219b954 (first commit)
   "id": "f1e1bec3",
   "metadata": {
    "deletable": false,
    "editable": false
   },
<<<<<<< HEAD
   "outputs": [],
=======
   "outputs": [
    {
     "data": {
      "text/html": [
       "<p><strong><pre style='display: inline;'>q2_2</pre></strong> passed! 🚀</p>"
      ],
      "text/plain": [
       "q2_2 results: All test cases passed!"
      ]
     },
     "execution_count": 23,
     "metadata": {},
     "output_type": "execute_result"
    }
   ],
>>>>>>> 219b954 (first commit)
   "source": [
    "grader.check(\"q2_2\")"
   ]
  },
  {
   "cell_type": "markdown",
   "id": "4c873ef1",
   "metadata": {},
   "source": [
    "---\n",
    "\n",
    "**Question 2.3.** Create an array called `simulated_tvds` that contains 10,000 simulated values under the null hypothesis. Assume that the original sample consisted of 1,000 individuals. **(4 points)**\n",
    "\n",
    "*Hint:* The `sample_proportions` function may be helpful to you. Refer to the [Python Reference Sheet](http://data8.org/fa24/reference/) to read up on it!\n"
   ]
  },
  {
   "cell_type": "code",
<<<<<<< HEAD
   "execution_count": null,
=======
   "execution_count": 24,
>>>>>>> 219b954 (first commit)
   "id": "ffce5c73",
   "metadata": {
    "tags": []
   },
   "outputs": [],
   "source": [
<<<<<<< HEAD
    "simulated_tvds = ...\n",
    "\n",
    "..."
=======
    "simulated_tvds = np.array([\n",
    "    calculate_tvd(sample_proportions(1000, null_distribution), null_distribution)\n",
    "    for _ in range(0, 10000)\n",
    "])"
>>>>>>> 219b954 (first commit)
   ]
  },
  {
   "cell_type": "code",
<<<<<<< HEAD
   "execution_count": null,
=======
   "execution_count": 25,
>>>>>>> 219b954 (first commit)
   "id": "fcac92b6",
   "metadata": {
    "deletable": false,
    "editable": false
   },
<<<<<<< HEAD
   "outputs": [],
=======
   "outputs": [
    {
     "data": {
      "text/html": [
       "<p><strong><pre style='display: inline;'>q2_3</pre></strong> passed! 🚀</p>"
      ],
      "text/plain": [
       "q2_3 results: All test cases passed!"
      ]
     },
     "execution_count": 25,
     "metadata": {},
     "output_type": "execute_result"
    }
   ],
>>>>>>> 219b954 (first commit)
   "source": [
    "grader.check(\"q2_3\")"
   ]
  },
  {
   "cell_type": "markdown",
   "id": "622b1f73",
   "metadata": {},
   "source": [
    "Run the cell below to plot a histogram of your simulated test statistics, as well as a red dot representing the observed value of the test statistic."
   ]
  },
  {
   "cell_type": "code",
<<<<<<< HEAD
   "execution_count": null,
   "id": "3395dfc7",
   "metadata": {},
   "outputs": [],
=======
   "execution_count": 26,
   "id": "3395dfc7",
   "metadata": {},
   "outputs": [
    {
     "data": {
      "image/png": "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",
      "text/plain": [
       "<Figure size 600x400 with 1 Axes>"
      ]
     },
     "metadata": {},
     "output_type": "display_data"
    }
   ],
>>>>>>> 219b954 (first commit)
   "source": [
    "Table().with_column(\"Simulated TVDs\", simulated_tvds).hist()\n",
    "plt.scatter(observed_tvd, 0.5, color='red', s=70, zorder=2);\n",
    "plt.show();"
   ]
  },
  {
   "cell_type": "markdown",
   "id": "00f8043d",
   "metadata": {},
   "source": [
    "---\n",
    "\n",
    "**Question 2.4.** Use your simulated statistics to calculate the p-value of your test. Make sure that this number is consistent with what you observed in the histogram above. **(4 points)**\n"
   ]
  },
  {
   "cell_type": "code",
<<<<<<< HEAD
   "execution_count": null,
=======
   "execution_count": 27,
>>>>>>> 219b954 (first commit)
   "id": "63993191",
   "metadata": {
    "tags": []
   },
<<<<<<< HEAD
   "outputs": [],
   "source": [
    "p_value_tvd = ...\n",
=======
   "outputs": [
    {
     "data": {
      "text/plain": [
       "0.0117"
      ]
     },
     "execution_count": 27,
     "metadata": {},
     "output_type": "execute_result"
    }
   ],
   "source": [
    "p_value_tvd = np.count_nonzero(simulated_statistics >= observed_statistic) / 10000\n",
>>>>>>> 219b954 (first commit)
    "p_value_tvd"
   ]
  },
  {
   "cell_type": "code",
<<<<<<< HEAD
   "execution_count": null,
=======
   "execution_count": 28,
>>>>>>> 219b954 (first commit)
   "id": "0833068b",
   "metadata": {
    "deletable": false,
    "editable": false
   },
<<<<<<< HEAD
   "outputs": [],
=======
   "outputs": [
    {
     "data": {
      "text/html": [
       "<p><strong><pre style='display: inline;'>q2_4</pre></strong> passed! ✨</p>"
      ],
      "text/plain": [
       "q2_4 results: All test cases passed!"
      ]
     },
     "execution_count": 28,
     "metadata": {},
     "output_type": "execute_result"
    }
   ],
>>>>>>> 219b954 (first commit)
   "source": [
    "grader.check(\"q2_4\")"
   ]
  },
  {
   "cell_type": "markdown",
   "id": "9ac52311",
   "metadata": {},
   "source": [
    "<!-- BEGIN QUESTION -->\n",
    "\n",
    "---\n",
    "\n",
    "**Question 2.5.** What can you conclude about how each factor contributes to the overall happiness score in the US? Explain your answer using the results of your hypothesis test. Assume a p-value cutoff of 5%. **(4 points)**\n"
   ]
  },
  {
   "cell_type": "markdown",
   "id": "b3f57373",
   "metadata": {},
   "source": [
<<<<<<< HEAD
    "_Type your answer here, replacing this text._"
=======
    "Because p-value < 0.05 so i can conclude that each factor does not contribute the same amount to the overall Happiness Score."
>>>>>>> 219b954 (first commit)
   ]
  },
  {
   "cell_type": "markdown",
   "id": "24adcc42",
   "metadata": {},
   "source": [
    "<!-- END QUESTION -->\n",
    "\n",
    "<hr style=\"border: 5px solid #003262;\" />\n",
    "<hr style=\"border: 1px solid #fdb515;\" />\n",
    "\n",
    "## 3. Who is Older?\n",
    "\n",
    "Data scientists have drawn a simple random sample of size 500 from a large population of adults. Each member of the population happened to identify as either \"male\" or \"female\". (Though many people identify outside of the gender binary, in this particular population of interest, each member happened to identify as either male or female.) Data was collected on several attributes of the sampled people, including age. The table `sampled_ages` contains one row for each person in the sample, with columns containing the individual's gender identity."
   ]
  },
  {
   "cell_type": "code",
<<<<<<< HEAD
   "execution_count": null,
   "id": "199bf0dc",
   "metadata": {},
   "outputs": [],
=======
   "execution_count": 29,
   "id": "199bf0dc",
   "metadata": {},
   "outputs": [
    {
     "data": {
      "text/html": [
       "<table border=\"1\" class=\"dataframe\">\n",
       "    <thead>\n",
       "        <tr>\n",
       "            <th>Gender</th> <th>Age</th>\n",
       "        </tr>\n",
       "    </thead>\n",
       "    <tbody>\n",
       "        <tr>\n",
       "            <td>male  </td> <td>23  </td>\n",
       "        </tr>\n",
       "        <tr>\n",
       "            <td>male  </td> <td>29  </td>\n",
       "        </tr>\n",
       "        <tr>\n",
       "            <td>male  </td> <td>29  </td>\n",
       "        </tr>\n",
       "        <tr>\n",
       "            <td>female</td> <td>49  </td>\n",
       "        </tr>\n",
       "        <tr>\n",
       "            <td>female</td> <td>33  </td>\n",
       "        </tr>\n",
       "    </tbody>\n",
       "</table>\n",
       "<p>... (495 rows omitted)</p>"
      ],
      "text/plain": [
       "<IPython.core.display.HTML object>"
      ]
     },
     "metadata": {},
     "output_type": "display_data"
    }
   ],
>>>>>>> 219b954 (first commit)
   "source": [
    "sampled_ages = Table.read_table('age.csv') \n",
    "sampled_ages.show(5)"
   ]
  },
  {
   "cell_type": "markdown",
   "id": "fba6929e",
   "metadata": {},
   "source": [
    "---\n",
    "\n",
    "**Question 3.1.** How many females were there in our sample? Please use the provided skeleton code. **(4 points)**\n",
    "\n",
    "*Hint:* Keep in mind that `.group` sorts categories in alphabetical order!\n"
   ]
  },
  {
   "cell_type": "code",
<<<<<<< HEAD
   "execution_count": null,
=======
   "execution_count": 30,
>>>>>>> 219b954 (first commit)
   "id": "64487b3c",
   "metadata": {
    "tags": []
   },
<<<<<<< HEAD
   "outputs": [],
   "source": [
    "num_females = sampled_ages.group(...)...\n",
=======
   "outputs": [
    {
     "data": {
      "text/plain": [
       "260"
      ]
     },
     "execution_count": 30,
     "metadata": {},
     "output_type": "execute_result"
    }
   ],
   "source": [
    "num_females = sampled_ages.group('Gender').row(0).item(1)\n",
>>>>>>> 219b954 (first commit)
    "num_females"
   ]
  },
  {
   "cell_type": "code",
<<<<<<< HEAD
   "execution_count": null,
=======
   "execution_count": 31,
>>>>>>> 219b954 (first commit)
   "id": "19ee2e3f",
   "metadata": {
    "deletable": false,
    "editable": false
   },
<<<<<<< HEAD
   "outputs": [],
=======
   "outputs": [
    {
     "data": {
      "text/html": [
       "<p><strong><pre style='display: inline;'>q3_1</pre></strong> passed! 💯</p>"
      ],
      "text/plain": [
       "q3_1 results: All test cases passed!"
      ]
     },
     "execution_count": 31,
     "metadata": {},
     "output_type": "execute_result"
    }
   ],
>>>>>>> 219b954 (first commit)
   "source": [
    "grader.check(\"q3_1\")"
   ]
  },
  {
   "cell_type": "markdown",
   "id": "06249963",
   "metadata": {},
   "source": [
    "---\n",
    "\n",
    "**Question 3.2.** Complete the cell below so that `avg_male_vs_female` evaluates to `True` if the sampled males are older than the sampled females on average, and `False` otherwise. Use Python code to achieve this. **(4 points)**\n"
   ]
  },
  {
   "cell_type": "code",
<<<<<<< HEAD
   "execution_count": null,
=======
   "execution_count": 32,
>>>>>>> 219b954 (first commit)
   "id": "079fc710",
   "metadata": {
    "tags": []
   },
<<<<<<< HEAD
   "outputs": [],
   "source": [
    "group_mean_tbl = sampled_ages.group(...)\n",
    "group_means = group_mean_tbl...       # array of mean ages\n",
    "avg_male_vs_female = group_means... > group_means...\n",
=======
   "outputs": [
    {
     "data": {
      "text/plain": [
       "False"
      ]
     },
     "execution_count": 32,
     "metadata": {},
     "output_type": "execute_result"
    }
   ],
   "source": [
    "group_mean_tbl = sampled_ages.group('Gender', np.average)\n",
    "group_means = group_mean_tbl.column('Age average')       # array of mean ages\n",
    "avg_male_vs_female = group_means[0] > group_means[1]\n",
>>>>>>> 219b954 (first commit)
    "avg_male_vs_female"
   ]
  },
  {
   "cell_type": "code",
<<<<<<< HEAD
   "execution_count": null,
=======
   "execution_count": 33,
>>>>>>> 219b954 (first commit)
   "id": "ec0ccf28",
   "metadata": {
    "deletable": false,
    "editable": false
   },
<<<<<<< HEAD
   "outputs": [],
=======
   "outputs": [
    {
     "data": {
      "text/html": [
       "<p><strong><pre style='display: inline;'>q3_2</pre></strong> passed! 🙌</p>"
      ],
      "text/plain": [
       "q3_2 results: All test cases passed!"
      ]
     },
     "execution_count": 33,
     "metadata": {},
     "output_type": "execute_result"
    }
   ],
>>>>>>> 219b954 (first commit)
   "source": [
    "grader.check(\"q3_2\")"
   ]
  },
  {
   "cell_type": "markdown",
   "id": "2694c91f",
   "metadata": {},
   "source": [
    "---\n",
    "\n",
    "**Question 3.3.** The data scientists want to use the data to test whether males are older than females. One of the following statements is their null hypothesis and another is their alternative hypothesis. Assign `null_statement_number` and `alternative_statement_number` to the numbers of the correct statements in the code cell below. **(4 points)**\n",
    "\n",
    "1. In the sample, the males and females have the same distribution of ages; the sample averages of the two groups are different due to chance.\n",
    "2. In the population, the males and females have the same distribution of ages; the sample averages of the two groups are different due to chance.\n",
    "3. The age distributions of males and females in the population are different due to chance.\n",
    "4. The males in the sample are older than the females, on average.\n",
    "5. The males in the population are older than the females, on average.\n",
    "6. The average ages of the males and females in the population are different.\n"
   ]
  },
  {
   "cell_type": "code",
<<<<<<< HEAD
   "execution_count": null,
=======
   "execution_count": 34,
>>>>>>> 219b954 (first commit)
   "id": "a7c4a33a",
   "metadata": {
    "tags": []
   },
   "outputs": [],
   "source": [
<<<<<<< HEAD
    "null_statement_number = ...\n",
    "alternative_statement_number = ..."
=======
    "null_statement_number = 2\n",
    "alternative_statement_number = 6"
>>>>>>> 219b954 (first commit)
   ]
  },
  {
   "cell_type": "code",
<<<<<<< HEAD
   "execution_count": null,
=======
   "execution_count": 35,
>>>>>>> 219b954 (first commit)
   "id": "d3c40179",
   "metadata": {
    "deletable": false,
    "editable": false
   },
<<<<<<< HEAD
   "outputs": [],
=======
   "outputs": [
    {
     "data": {
      "text/html": [
       "<p><strong><pre style='display: inline;'>q3_3</pre></strong> passed! 🍀</p>"
      ],
      "text/plain": [
       "q3_3 results: All test cases passed!"
      ]
     },
     "execution_count": 35,
     "metadata": {},
     "output_type": "execute_result"
    }
   ],
>>>>>>> 219b954 (first commit)
   "source": [
    "grader.check(\"q3_3\")"
   ]
  },
  {
   "cell_type": "markdown",
   "id": "d799a3f3",
   "metadata": {},
   "source": [
    "---\n",
    "\n",
    "**Question 3.4.** The data scientists have decided to use a permutation test. Assign `permutation_test_reason` to the number corresponding to the reason they made this choice. **(4 points)**\n",
    "\n",
    "1. Since a person's age shouldn't be related to their gender, it doesn't matter who is labeled \"male\" and who is labeled \"female\", so you can use permutations.\n",
    "2. Under the null hypothesis, permuting the labels in the `sampled_ages` table is equivalent to drawing a new random sample with the same number of males and females as in the original sample.\n",
    "3. Under the null hypothesis, permuting the rows of `sampled_ages` table is equivalent to drawing a new random sample with the same number of males and females as in the original sample.\n",
    "\n",
    "*Note:* Check out [12.1](https://inferentialthinking.com/chapters/12/1/AB_Testing.html#permutation-test) for a refresher on random permutations and permutation tests.\n"
   ]
  },
  {
   "cell_type": "code",
<<<<<<< HEAD
   "execution_count": null,
=======
   "execution_count": 36,
>>>>>>> 219b954 (first commit)
   "id": "e2944841",
   "metadata": {
    "tags": []
   },
<<<<<<< HEAD
   "outputs": [],
   "source": [
    "permutation_test_reason = ...\n",
=======
   "outputs": [
    {
     "data": {
      "text/plain": [
       "2"
      ]
     },
     "execution_count": 36,
     "metadata": {},
     "output_type": "execute_result"
    }
   ],
   "source": [
    "permutation_test_reason = 2\n",
>>>>>>> 219b954 (first commit)
    "permutation_test_reason"
   ]
  },
  {
   "cell_type": "code",
<<<<<<< HEAD
   "execution_count": null,
=======
   "execution_count": 37,
>>>>>>> 219b954 (first commit)
   "id": "1665b3b8",
   "metadata": {
    "deletable": false,
    "editable": false
   },
<<<<<<< HEAD
   "outputs": [],
=======
   "outputs": [
    {
     "data": {
      "text/html": [
       "<p><strong><pre style='display: inline;'>q3_4</pre></strong> passed! 🌟</p>"
      ],
      "text/plain": [
       "q3_4 results: All test cases passed!"
      ]
     },
     "execution_count": 37,
     "metadata": {},
     "output_type": "execute_result"
    }
   ],
>>>>>>> 219b954 (first commit)
   "source": [
    "grader.check(\"q3_4\")"
   ]
  },
  {
   "cell_type": "markdown",
   "id": "3379ff56",
   "metadata": {},
   "source": [
    "---\n",
    "\n",
    "**Question 3.5.** To test their hypotheses, the data scientists have followed our textbook's advice and chosen a test statistic where the following statement is true: Large values of the test statistic favor the alternative hypothesis.\n",
    "\n",
    "The data scientists' test statistic is one of the two options below. Which one is it? Assign the appropriate number to the variable `correct_test_stat`. **(4 points)**\n",
    "\n",
    "1. \"male age average - female age average\" in a sample created by randomly shuffling the male/female labels\n",
    "2. \"|male age average - female age average|\" in a sample created by randomly shuffling the male/female labels\n"
   ]
  },
  {
   "cell_type": "code",
<<<<<<< HEAD
   "execution_count": null,
=======
   "execution_count": 38,
>>>>>>> 219b954 (first commit)
   "id": "23b0a0e9",
   "metadata": {
    "tags": []
   },
<<<<<<< HEAD
   "outputs": [],
   "source": [
    "correct_test_stat = ...\n",
=======
   "outputs": [
    {
     "data": {
      "text/plain": [
       "2"
      ]
     },
     "execution_count": 38,
     "metadata": {},
     "output_type": "execute_result"
    }
   ],
   "source": [
    "correct_test_stat = 2\n",
>>>>>>> 219b954 (first commit)
    "correct_test_stat"
   ]
  },
  {
   "cell_type": "code",
<<<<<<< HEAD
   "execution_count": null,
=======
   "execution_count": 39,
>>>>>>> 219b954 (first commit)
   "id": "d68c02c6",
   "metadata": {
    "deletable": false,
    "editable": false
   },
<<<<<<< HEAD
   "outputs": [],
=======
   "outputs": [
    {
     "data": {
      "text/html": [
       "<p><strong><pre style='display: inline;'>q3_5</pre></strong> passed! 🌟</p>"
      ],
      "text/plain": [
       "q3_5 results: All test cases passed!"
      ]
     },
     "execution_count": 39,
     "metadata": {},
     "output_type": "execute_result"
    }
   ],
>>>>>>> 219b954 (first commit)
   "source": [
    "grader.check(\"q3_5\")"
   ]
  },
  {
   "cell_type": "markdown",
   "id": "87cbaa25",
   "metadata": {},
   "source": [
    "---\n",
    "\n",
    "**Question 3.6.** Complete the cell below so that `observed_statistic_ab` evaluates to the observed value of the data scientists' test statistic. Use as many lines of code as you need, and remember that you can use any quantity, table, or array that you created earlier. **(4 points)**\n"
   ]
  },
  {
   "cell_type": "code",
<<<<<<< HEAD
   "execution_count": null,
=======
   "execution_count": 40,
>>>>>>> 219b954 (first commit)
   "id": "b08dc0bc",
   "metadata": {
    "tags": []
   },
<<<<<<< HEAD
   "outputs": [],
   "source": [
    "observed_statistic_ab = ...\n",
=======
   "outputs": [
    {
     "data": {
      "text/plain": [
       "1.3141025641025621"
      ]
     },
     "execution_count": 40,
     "metadata": {},
     "output_type": "execute_result"
    }
   ],
   "source": [
    "observed_statistic_ab = abs(group_means[0] - group_means[1])\n",
>>>>>>> 219b954 (first commit)
    "observed_statistic_ab"
   ]
  },
  {
   "cell_type": "code",
<<<<<<< HEAD
   "execution_count": null,
=======
   "execution_count": 41,
>>>>>>> 219b954 (first commit)
   "id": "34d69667",
   "metadata": {
    "deletable": false,
    "editable": false
   },
<<<<<<< HEAD
   "outputs": [],
=======
   "outputs": [
    {
     "data": {
      "text/html": [
       "<p><strong><pre style='display: inline;'>q3_6</pre></strong> passed! 💯</p>"
      ],
      "text/plain": [
       "q3_6 results: All test cases passed!"
      ]
     },
     "execution_count": 41,
     "metadata": {},
     "output_type": "execute_result"
    }
   ],
>>>>>>> 219b954 (first commit)
   "source": [
    "grader.check(\"q3_6\")"
   ]
  },
  {
   "cell_type": "markdown",
   "id": "7f7ed48d",
   "metadata": {},
   "source": [
    "---\n",
    "\n",
    "**Question 3.7.** Assign `shuffled_labels` to an array of shuffled male/female labels. The rest of the code puts the array in a table along with the data in `sampled_ages`. **(4 points)**\n"
   ]
  },
  {
   "cell_type": "code",
<<<<<<< HEAD
   "execution_count": null,
=======
   "execution_count": 42,
>>>>>>> 219b954 (first commit)
   "id": "6f67be38",
   "metadata": {
    "tags": []
   },
<<<<<<< HEAD
   "outputs": [],
   "source": [
    "shuffled_labels = ...\n",
=======
   "outputs": [
    {
     "data": {
      "text/html": [
       "<table border=\"1\" class=\"dataframe\">\n",
       "    <thead>\n",
       "        <tr>\n",
       "            <th>Gender</th> <th>Age</th> <th>Shuffled Label</th>\n",
       "        </tr>\n",
       "    </thead>\n",
       "    <tbody>\n",
       "        <tr>\n",
       "            <td>male  </td> <td>23  </td> <td>male          </td>\n",
       "        </tr>\n",
       "        <tr>\n",
       "            <td>male  </td> <td>29  </td> <td>female        </td>\n",
       "        </tr>\n",
       "        <tr>\n",
       "            <td>male  </td> <td>29  </td> <td>male          </td>\n",
       "        </tr>\n",
       "        <tr>\n",
       "            <td>female</td> <td>49  </td> <td>female        </td>\n",
       "        </tr>\n",
       "        <tr>\n",
       "            <td>female</td> <td>33  </td> <td>female        </td>\n",
       "        </tr>\n",
       "        <tr>\n",
       "            <td>male  </td> <td>31  </td> <td>male          </td>\n",
       "        </tr>\n",
       "        <tr>\n",
       "            <td>male  </td> <td>60  </td> <td>female        </td>\n",
       "        </tr>\n",
       "        <tr>\n",
       "            <td>male  </td> <td>38  </td> <td>male          </td>\n",
       "        </tr>\n",
       "        <tr>\n",
       "            <td>female</td> <td>60  </td> <td>female        </td>\n",
       "        </tr>\n",
       "        <tr>\n",
       "            <td>female</td> <td>27  </td> <td>male          </td>\n",
       "        </tr>\n",
       "    </tbody>\n",
       "</table>\n",
       "<p>... (490 rows omitted)</p>"
      ],
      "text/plain": [
       "Gender | Age  | Shuffled Label\n",
       "male   | 23   | male\n",
       "male   | 29   | female\n",
       "male   | 29   | male\n",
       "female | 49   | female\n",
       "female | 33   | female\n",
       "male   | 31   | male\n",
       "male   | 60   | female\n",
       "male   | 38   | male\n",
       "female | 60   | female\n",
       "female | 27   | male\n",
       "... (490 rows omitted)"
      ]
     },
     "execution_count": 42,
     "metadata": {},
     "output_type": "execute_result"
    }
   ],
   "source": [
    "shuffled_labels = sampled_ages.sample(with_replacement=False).column('Gender')\n",
>>>>>>> 219b954 (first commit)
    "original_with_shuffled_labels = sampled_ages.with_columns('Shuffled Label', shuffled_labels)\n",
    "original_with_shuffled_labels"
   ]
  },
  {
   "cell_type": "code",
<<<<<<< HEAD
   "execution_count": null,
=======
   "execution_count": 43,
>>>>>>> 219b954 (first commit)
   "id": "788a39ff",
   "metadata": {
    "deletable": false,
    "editable": false
   },
<<<<<<< HEAD
   "outputs": [],
=======
   "outputs": [
    {
     "data": {
      "text/html": [
       "<p><strong><pre style='display: inline;'>q3_7</pre></strong> passed! 🙌</p>"
      ],
      "text/plain": [
       "q3_7 results: All test cases passed!"
      ]
     },
     "execution_count": 43,
     "metadata": {},
     "output_type": "execute_result"
    }
   ],
>>>>>>> 219b954 (first commit)
   "source": [
    "grader.check(\"q3_7\")"
   ]
  },
  {
   "cell_type": "markdown",
   "id": "b217d732",
   "metadata": {},
   "source": [
    "---\n",
    "\n",
    "**Question 3.8.** The comparison below uses the array `shuffled_labels` from Question 3.7 and the count `num_females` from Question 3.1.\n",
    "\n",
    "For this comparison, assign the correct letter as a string (e.g. `correct_q8 = 'A'`) from one of the following options to the variable `correct_q8`. **Pretend this is a midterm problem and do not solve it using a code cell.** **(4 points)**\n",
    "\n",
    "`comp = np.count_nonzero(shuffled_labels == 'female') == num_females`\n",
    "\n",
    "A. `comp` is set to `True`.<br>\n",
    "B. `comp` is set to `False`.<br>\n",
    "C. `comp` is set to `True` or `False`, depending on how the shuffle came out.\n"
   ]
  },
  {
   "cell_type": "code",
<<<<<<< HEAD
   "execution_count": null,
=======
   "execution_count": 44,
>>>>>>> 219b954 (first commit)
   "id": "acb06500",
   "metadata": {
    "tags": []
   },
<<<<<<< HEAD
   "outputs": [],
   "source": [
    "correct_q8 = ...\n",
=======
   "outputs": [
    {
     "data": {
      "text/plain": [
       "'A'"
      ]
     },
     "execution_count": 44,
     "metadata": {},
     "output_type": "execute_result"
    }
   ],
   "source": [
    "correct_q8 = 'A'\n",
>>>>>>> 219b954 (first commit)
    "correct_q8"
   ]
  },
  {
   "cell_type": "code",
<<<<<<< HEAD
   "execution_count": null,
=======
   "execution_count": 45,
>>>>>>> 219b954 (first commit)
   "id": "89301133",
   "metadata": {
    "deletable": false,
    "editable": false
   },
<<<<<<< HEAD
   "outputs": [],
=======
   "outputs": [
    {
     "data": {
      "text/html": [
       "<p><strong><pre style='display: inline;'>q3_8</pre></strong> passed! 🌟</p>"
      ],
      "text/plain": [
       "q3_8 results: All test cases passed!"
      ]
     },
     "execution_count": 45,
     "metadata": {},
     "output_type": "execute_result"
    }
   ],
>>>>>>> 219b954 (first commit)
   "source": [
    "grader.check(\"q3_8\")"
   ]
  },
  {
   "cell_type": "markdown",
   "id": "c70885da",
   "metadata": {},
   "source": [
    "---\n",
    "\n",
    "**Question 3.9.** Define a function `simulate_one_statistic` that takes no arguments and returns one simulated value of the test statistic. We've given you a skeleton, but feel free to approach this question in a way that makes sense to you. Use as many lines of code as you need. Refer to the code you have previously written in this problem, as you might be able to re-use some of it. **(4 points)**\n"
   ]
  },
  {
   "cell_type": "code",
<<<<<<< HEAD
   "execution_count": null,
=======
   "execution_count": 54,
>>>>>>> 219b954 (first commit)
   "id": "b945474e",
   "metadata": {
    "tags": []
   },
<<<<<<< HEAD
   "outputs": [],
   "source": [
    "def simulate_one_statistic():\n",
    "    \"Returns one value of our simulated test statistic\"\n",
    "    shuffled_labels = ...\n",
    "    shuffled_tbl = ...\n",
    "    group_means = ...\n",
    "    ..."
=======
   "outputs": [
    {
     "data": {
      "text/plain": [
       "-0.5769230769230802"
      ]
     },
     "execution_count": 54,
     "metadata": {},
     "output_type": "execute_result"
    }
   ],
   "source": [
    "def simulate_one_statistic():\n",
    "    \"Returns one value of our simulated test statistic\"\n",
    "    shuffled_labels = sampled_ages.sample(with_replacement=False).column('Gender')\n",
    "    shuffled_tbl = sampled_ages.with_column('Shuffled Label', shuffled_labels)\n",
    "    group_means = shuffled_tbl.group('Shuffled Label', np.average)\n",
    "    return group_means.row(0)[2] - group_means.row(1)[2]\n",
    "\n",
    "simulate_one_statistic()"
>>>>>>> 219b954 (first commit)
   ]
  },
  {
   "cell_type": "code",
<<<<<<< HEAD
   "execution_count": null,
=======
   "execution_count": 55,
>>>>>>> 219b954 (first commit)
   "id": "7b5c4683",
   "metadata": {
    "deletable": false,
    "editable": false
   },
<<<<<<< HEAD
   "outputs": [],
=======
   "outputs": [
    {
     "data": {
      "text/html": [
       "<p><strong><pre style='display: inline;'>q3_9</pre></strong> passed! 🌟</p>"
      ],
      "text/plain": [
       "q3_9 results: All test cases passed!"
      ]
     },
     "execution_count": 55,
     "metadata": {},
     "output_type": "execute_result"
    }
   ],
>>>>>>> 219b954 (first commit)
   "source": [
    "grader.check(\"q3_9\")"
   ]
  },
  {
   "cell_type": "markdown",
   "id": "efe4c874",
   "metadata": {},
   "source": [
    "After you have defined your function, run the following cell a few times to see how the statistic varies."
   ]
  },
  {
   "cell_type": "code",
<<<<<<< HEAD
   "execution_count": null,
   "id": "45659938",
   "metadata": {},
   "outputs": [],
=======
   "execution_count": 56,
   "id": "45659938",
   "metadata": {},
   "outputs": [
    {
     "data": {
      "text/plain": [
       "1.0416666666666714"
      ]
     },
     "execution_count": 56,
     "metadata": {},
     "output_type": "execute_result"
    }
   ],
>>>>>>> 219b954 (first commit)
   "source": [
    "simulate_one_statistic()"
   ]
  },
  {
   "cell_type": "markdown",
   "id": "0217f321",
   "metadata": {},
   "source": [
    "---\n",
    "\n",
    "**Question 3.10.** Complete the cell to simulate 5,000 values of the statistic. We have included the code that draws the empirical distribution of the statistic and shows the value of `observed_statistic_ab` from Question 3.6. Feel free to use as many lines of code as you need. **(4 points)**\n",
    "\n",
    "*Note:* This cell will take around a minute to run.\n"
   ]
  },
  {
   "cell_type": "code",
<<<<<<< HEAD
   "execution_count": null,
=======
   "execution_count": 57,
>>>>>>> 219b954 (first commit)
   "id": "4f3868d5",
   "metadata": {
    "scrolled": false,
    "tags": []
   },
<<<<<<< HEAD
   "outputs": [],
   "source": [
    "simulated_statistics_ab = make_array()\n",
    "\n",
    "...\n",
    "    simulated_statistics_ab = ...\n",
=======
   "outputs": [
    {
     "data": {
      "image/png": "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",
      "text/plain": [
       "<Figure size 600x400 with 1 Axes>"
      ]
     },
     "metadata": {},
     "output_type": "display_data"
    }
   ],
   "source": [
    "simulated_statistics_ab = make_array()\n",
    "\n",
    "simulated_statistics_ab = [\n",
    "    simulate_one_statistic()\n",
    "    for _ in range(0, 5000)\n",
    "]\n",
>>>>>>> 219b954 (first commit)
    "\n",
    "# Do not change these lines\n",
    "Table().with_columns('Simulated Statistic', simulated_statistics_ab).hist()\n",
    "plt.scatter(observed_statistic_ab, -0.002, color='red', s=70);"
   ]
  },
  {
   "cell_type": "markdown",
   "id": "2d3649e3",
   "metadata": {},
   "source": [
    "---\n",
    "\n",
    "**Question 3.11.** Use the simulation to find an empirical approximation to the p-value. Assign `p_val` to the appropriate p-value from this simulation. Then, assign `conclusion` to either `null_hyp` or `alt_hyp`. **(4 points)** \n",
    "\n",
    "*Note:* Assume that we use the 5% cutoff for the p-value.\n"
   ]
  },
  {
   "cell_type": "code",
<<<<<<< HEAD
   "execution_count": null,
=======
   "execution_count": 60,
>>>>>>> 219b954 (first commit)
   "id": "ff0b93fb",
   "metadata": {
    "tags": []
   },
<<<<<<< HEAD
   "outputs": [],
=======
   "outputs": [
    {
     "data": {
      "text/plain": [
       "(0.103, 'The data are consistent with the null hypothesis.')"
      ]
     },
     "execution_count": 60,
     "metadata": {},
     "output_type": "execute_result"
    }
   ],
>>>>>>> 219b954 (first commit)
   "source": [
    "# These are variables provided for you to use.\n",
    "null_hyp = 'The data are consistent with the null hypothesis.'\n",
    "alt_hyp = 'The data support the alternative more than the null.'\n",
    "\n",
<<<<<<< HEAD
    "p_val = ...\n",
    "conclusion = ...\n",
=======
    "p_val = np.count_nonzero(simulated_statistics_ab >= observed_statistic_ab) / 5000\n",
    "conclusion = null_hyp\n",
>>>>>>> 219b954 (first commit)
    "\n",
    "p_val, conclusion # Do not change this line"
   ]
  },
  {
   "cell_type": "code",
<<<<<<< HEAD
   "execution_count": null,
=======
   "execution_count": 61,
>>>>>>> 219b954 (first commit)
   "id": "7d22d501",
   "metadata": {
    "deletable": false,
    "editable": false
   },
<<<<<<< HEAD
   "outputs": [],
=======
   "outputs": [
    {
     "data": {
      "text/html": [
       "<p><strong><pre style='display: inline;'>q3_11</pre></strong> passed! 🌈</p>"
      ],
      "text/plain": [
       "q3_11 results: All test cases passed!"
      ]
     },
     "execution_count": 61,
     "metadata": {},
     "output_type": "execute_result"
    }
   ],
>>>>>>> 219b954 (first commit)
   "source": [
    "grader.check(\"q3_11\")"
   ]
  },
  {
   "attachments": {},
   "cell_type": "markdown",
   "id": "85bc4bc6",
   "metadata": {},
   "source": [
    "You're done with Homework 6!  \n",
    "\n",
    "**Important submission steps:** \n",
    "1. Run the tests and verify that they all pass.\n",
    "2. Choose **Save Notebook** from the **File** menu, then **run the final cell**. \n",
    "3. Click the link to download the zip file.\n",
    "4. Go to [Gradescope](https://www.gradescope.com) and submit the zip file to the corresponding assignment. The name of this assignment is \"HW 06 Autograder\". \n",
    "\n",
    "**It is your responsibility to make sure your work is saved before running the last cell.**"
   ]
  },
  {
   "attachments": {},
   "cell_type": "markdown",
   "id": "f53d64c8",
   "metadata": {},
   "source": [
    "## Pets of Data 8\n",
    "**Gus** is enjoying the weather we're having lately. Congrats on surviving the heat and finishing homework 7!\n",
    "\n",
    "<img src=\"./gus2.jpeg\" width=\"40%\" alt=\"Black and white cat sitting next to window\"/>"
   ]
  },
  {
   "cell_type": "markdown",
   "id": "6f700bde",
   "metadata": {},
   "source": [
    "## Written Work Submission\n",
    "\n",
    "Below, you will see two cells. Running the first cell will automatically generate a PDF of all questions that need to be manually graded, and running the second cell will automatically generate a zip with your autograded answers. You are responsible for submitting both the coding portion (the zip) and the written portion (the PDF) to their respective Gradescope portals. **Please save before exporting!**\n",
    "\n",
    "> **Important: You must correctly assign the pages of your PDF after you submit to the correct gradescope assignment. If your pages are not correctly assigned and/or not in the correct PDF format by the deadline, we reserve the right to award no points for your written work.**\n",
    "\n",
    "If there are issues with automatically generating the PDF in the first cell, you can try downloading the notebook as a PDF by clicking on `File -> Save and Export Notebook As... -> Webpdf`. If that doesn't work either, you can manually take screenshots of your answers to the manually graded questions and submit one single PDF of your screenshots. Either way, **you are responsible for ensuring your submision follows our requirements, we will NOT be granting regrade requests for submissions that don't follow instructions.**\n",
    "\n",
    "**You must submit the PDF generated via one of these methods, we will not accept screenshots or Word documents.**"
   ]
  },
  {
   "cell_type": "code",
   "execution_count": null,
   "id": "9ccbf860",
   "metadata": {},
   "outputs": [],
   "source": [
    "from otter.export import export_notebook\n",
    "from os import path\n",
    "from IPython.display import display, HTML\n",
    "name = 'hw07'\n",
    "export_notebook(f\"{name}.ipynb\", filtering=True, pagebreaks=True)\n",
    "if(path.exists(f'{name}.pdf')):\n",
    "    display(HTML(f\"Download your PDF <a href='{name}.pdf' download>here</a>.\"))\n",
    "else:\n",
    "    print(\"\\n Pdf generation failed, please try the other methods described above\")"
   ]
  },
  {
   "cell_type": "markdown",
   "id": "361bf71b",
   "metadata": {
    "deletable": false,
    "editable": false
   },
   "source": [
    "## Submission\n",
    "\n",
    "Make sure you have run all cells in your notebook in order before running the cell below, so that all images/graphs appear in the output. The cell below will generate a zip file for you to submit. **Please save before exporting!**"
   ]
  },
  {
   "cell_type": "code",
   "execution_count": null,
   "id": "1306374a",
   "metadata": {
    "deletable": false,
    "editable": false
   },
   "outputs": [],
   "source": [
    "# Save your notebook first, then run this cell to export your submission.\n",
    "grader.export(pdf=False, run_tests=True)"
   ]
  },
  {
   "cell_type": "markdown",
   "id": "1052cfa5",
   "metadata": {},
   "source": [
    " "
   ]
  }
 ],
 "metadata": {
  "kernelspec": {
   "display_name": "Python 3",
   "language": "python",
   "name": "python3"
  },
  "language_info": {
   "codemirror_mode": {
    "name": "ipython",
    "version": 3
   },
   "file_extension": ".py",
   "mimetype": "text/x-python",
   "name": "python",
   "nbconvert_exporter": "python",
   "pygments_lexer": "ipython3",
<<<<<<< HEAD
   "version": "3.12.6"
=======
   "version": "3.12.3"
>>>>>>> 219b954 (first commit)
  },
  "otter": {
   "OK_FORMAT": true,
   "tests": {
    "q1_1": {
     "name": "q1_1",
     "points": [
      0,
      0,
      0,
      0
     ],
     "suites": [
      {
       "cases": [
        {
         "code": ">>> type(sample_size) == int\nTrue",
         "hidden": false,
         "locked": false
        },
        {
         "code": ">>> type(percent_V1) == float or type(percent_V1) == int\nTrue",
         "hidden": false,
         "locked": false
        },
        {
         "code": ">>> 100 <= sample_size <= 500\nTrue",
         "hidden": false,
         "locked": false
        },
        {
         "code": ">>> 1 <= percent_V1 <= 100\nTrue",
         "hidden": false,
         "locked": false
        }
       ],
       "scored": true,
       "setup": "",
       "teardown": "",
       "type": "doctest"
      }
     ]
    },
    "q1_4": {
     "name": "q1_4",
     "points": [
      0,
      0
     ],
     "suites": [
      {
       "cases": [
        {
         "code": ">>> type(valid_test_stat) == int\nTrue",
         "hidden": false,
         "locked": false
        },
        {
         "code": ">>> any((valid_test_stat == x for x in np.arange(1,5)))\nTrue",
         "hidden": false,
         "locked": false
        }
       ],
       "scored": true,
       "setup": "",
       "teardown": "",
       "type": "doctest"
      }
     ]
    },
    "q1_5": {
     "name": "q1_5",
     "points": [
      0,
      0
     ],
     "suites": [
      {
       "cases": [
        {
         "code": ">>> type(observed_statistic) == float\nTrue",
         "hidden": false,
         "locked": false
        },
        {
         "code": ">>> 0 <= observed_statistic <= 100\nTrue",
         "hidden": false,
         "locked": false
        }
       ],
       "scored": true,
       "setup": "",
       "teardown": "",
       "type": "doctest"
      }
     ]
    },
    "q1_6": {
     "name": "q1_6",
     "points": [
      0,
      0
     ],
     "suites": [
      {
       "cases": [
        {
         "code": ">>> type(assumption_needed) == int\nTrue",
         "hidden": false,
         "locked": false
        },
        {
         "code": ">>> 1 <= assumption_needed <= 4\nTrue",
         "hidden": false,
         "locked": false
        }
       ],
       "scored": true,
       "setup": "",
       "teardown": "",
       "type": "doctest"
      }
     ]
    },
    "q1_8": {
     "name": "q1_8",
     "points": [
      0,
      0
     ],
     "suites": [
      {
       "cases": [
        {
         "code": ">>> import numpy as np\n>>> type(p_value) == float or type(p_value) == np.float64\nTrue",
         "hidden": false,
         "locked": false
        },
        {
         "code": ">>> 0 <= p_value <= 1\nTrue",
         "hidden": false,
         "locked": false
        }
       ],
       "scored": true,
       "setup": "",
       "teardown": "",
       "type": "doctest"
      }
     ]
    },
    "q1_9": {
     "name": "q1_9",
     "points": [
      0,
      0
     ],
     "suites": [
      {
       "cases": [
        {
         "code": ">>> type(correct_doctor) == int\nTrue",
         "hidden": false,
         "locked": false
        },
        {
         "code": ">>> any((correct_doctor == x for x in (1,2)))\nTrue",
         "hidden": false,
         "locked": false
        }
       ],
       "scored": true,
       "setup": "",
       "teardown": "",
       "type": "doctest"
      }
     ]
    },
    "q2_2": {
     "name": "q2_2",
     "points": [
      2,
      2
     ],
     "suites": [
      {
       "cases": [
        {
         "code": ">>> type(observed_tvd) in set([float, np.float32, np.float64])\nTrue",
         "hidden": false,
         "locked": false
        },
        {
         "code": ">>> np.isclose(round(observed_tvd, 6), 0.38791256)\nTrue",
         "hidden": false,
         "locked": false
        }
       ],
       "scored": true,
       "setup": "",
       "teardown": "",
       "type": "doctest"
      }
     ]
    },
    "q2_3": {
     "name": "q2_3",
     "points": [
      1,
      1,
      1,
      1
     ],
     "suites": [
      {
       "cases": [
        {
         "code": ">>> len(simulated_tvds) == 10000\nTrue",
         "hidden": false,
         "locked": false
        },
        {
         "code": ">>> all(simulated_tvds >= 0)\nTrue",
         "hidden": false,
         "locked": false
        },
        {
         "code": ">>> # Make sure that your test statistic is not always the same value \n>>> len(np.unique(simulated_tvds)) != 1\nTrue",
         "hidden": false,
         "locked": false
        },
        {
         "code": ">>> # Make sure you're simulating under the null hypothesis\n>>> np.mean(simulated_tvds) < 0.1\nTrue",
         "hidden": false,
         "locked": false
        }
       ],
       "scored": true,
       "setup": "",
       "teardown": "",
       "type": "doctest"
      }
     ]
    },
    "q2_4": {
     "name": "q2_4",
     "points": [
      4
     ],
     "suites": [
      {
       "cases": [
        {
         "code": ">>> 0 <= p_value_tvd <= 1\nTrue",
         "hidden": false,
         "locked": false
        }
       ],
       "scored": true,
       "setup": "",
       "teardown": "",
       "type": "doctest"
      }
     ]
    },
    "q3_1": {
     "name": "q3_1",
     "points": [
      0
     ],
     "suites": [
      {
       "cases": [
        {
         "code": ">>> 0 <= num_females <= 500\nTrue",
         "hidden": false,
         "locked": false
        }
       ],
       "scored": true,
       "setup": "",
       "teardown": "",
       "type": "doctest"
      }
     ]
    },
    "q3_10": {
     "name": "q3_10",
     "points": [],
     "suites": [
      {
       "cases": [],
       "scored": true,
       "setup": "",
       "teardown": "",
       "type": "doctest"
      }
     ]
    },
    "q3_11": {
     "name": "q3_11",
     "points": [
      0,
      0,
      0
     ],
     "suites": [
      {
       "cases": [
        {
         "code": ">>> type(p_val) in set([float, np.float32, np.float64])\nTrue",
         "hidden": false,
         "locked": false
        },
        {
         "code": ">>> 0 <= p_val <= 1\nTrue",
         "hidden": false,
         "locked": false
        },
        {
         "code": ">>> type(conclusion) == str\nTrue",
         "hidden": false,
         "locked": false
        }
       ],
       "scored": true,
       "setup": "",
       "teardown": "",
       "type": "doctest"
      }
     ]
    },
    "q3_2": {
     "name": "q3_2",
     "points": [
      0
     ],
     "suites": [
      {
       "cases": [
        {
         "code": ">>> import numpy as np\n>>> type(avg_male_vs_female) in set([bool, np.bool_])\nTrue",
         "hidden": false,
         "locked": false
        }
       ],
       "scored": true,
       "setup": "",
       "teardown": "",
       "type": "doctest"
      }
     ]
    },
    "q3_3": {
     "name": "q3_3",
     "points": [
      0,
      0,
      0,
      0,
      0
     ],
     "suites": [
      {
       "cases": [
        {
         "code": ">>> type(null_statement_number) == int\nTrue",
         "hidden": false,
         "locked": false
        },
        {
         "code": ">>> type(alternative_statement_number) == int\nTrue",
         "hidden": false,
         "locked": false
        },
        {
         "code": ">>> any(null_statement_number == x for x in np.arange(1,7))\nTrue",
         "hidden": false,
         "locked": false
        },
        {
         "code": ">>> any(alternative_statement_number == x for x in np.arange(1,7))\nTrue",
         "hidden": false,
         "locked": false
        },
        {
         "code": ">>> null_statement_number != alternative_statement_number\nTrue",
         "hidden": false,
         "locked": false
        }
       ],
       "scored": true,
       "setup": "",
       "teardown": "",
       "type": "doctest"
      }
     ]
    },
    "q3_4": {
     "name": "q3_4",
     "points": [
      0,
      0
     ],
     "suites": [
      {
       "cases": [
        {
         "code": ">>> type(permutation_test_reason) == int\nTrue",
         "hidden": false,
         "locked": false
        },
        {
         "code": ">>> any(permutation_test_reason == x for x in np.arange(1,4))\nTrue",
         "hidden": false,
         "locked": false
        }
       ],
       "scored": true,
       "setup": "",
       "teardown": "",
       "type": "doctest"
      }
     ]
    },
    "q3_5": {
     "name": "q3_5",
     "points": [
      0,
      0
     ],
     "suites": [
      {
       "cases": [
        {
         "code": ">>> type(correct_test_stat) == int\nTrue",
         "hidden": false,
         "locked": false
        },
        {
         "code": ">>> any(correct_test_stat == x for x in np.arange(1,3))\nTrue",
         "hidden": false,
         "locked": false
        }
       ],
       "scored": true,
       "setup": "",
       "teardown": "",
       "type": "doctest"
      }
     ]
    },
    "q3_6": {
     "name": "q3_6",
     "points": [
      0,
      0
     ],
     "suites": [
      {
       "cases": [
        {
         "code": ">>> type(observed_statistic_ab) in set([float, np.float64])\nTrue",
         "hidden": false,
         "locked": false
        },
        {
         "code": ">>> observed_statistic_ab >= 0\nTrue",
         "hidden": false,
         "locked": false
        }
       ],
       "scored": true,
       "setup": "",
       "teardown": "",
       "type": "doctest"
      }
     ]
    },
    "q3_7": {
     "name": "q3_7",
     "points": [
      0,
      0,
      0
     ],
     "suites": [
      {
       "cases": [
        {
         "code": ">>> type(original_with_shuffled_labels) == Table\nTrue",
         "hidden": false,
         "locked": false
        },
        {
         "code": ">>> original_with_shuffled_labels.labels == (\"Gender\", \"Age\", \"Shuffled Label\")\nTrue",
         "hidden": false,
         "locked": false
        },
        {
         "code": ">>> original_with_shuffled_labels.num_rows == 500\nTrue",
         "hidden": false,
         "locked": false
        }
       ],
       "scored": true,
       "setup": "",
       "teardown": "",
       "type": "doctest"
      }
     ]
    },
    "q3_8": {
     "name": "q3_8",
     "points": [
      0
     ],
     "suites": [
      {
       "cases": [
        {
         "code": ">>> type(correct_q8) == str\nTrue",
         "hidden": false,
         "locked": false
        }
       ],
       "scored": true,
       "setup": "",
       "teardown": "",
       "type": "doctest"
      }
     ]
    },
    "q3_9": {
     "name": "q3_9",
     "points": [
      4
     ],
     "suites": [
      {
       "cases": [
        {
         "code": ">>> -5 < simulate_one_statistic() < 5\nTrue",
         "hidden": false,
         "locked": false
        }
       ],
       "scored": true,
       "setup": "",
       "teardown": "",
       "type": "doctest"
      }
     ]
    }
   }
  }
 },
 "nbformat": 4,
 "nbformat_minor": 5
<<<<<<< HEAD
}
=======
}
>>>>>>> 219b954 (first commit)
